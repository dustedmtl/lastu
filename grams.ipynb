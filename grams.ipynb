{
 "cells": [
  {
   "cell_type": "code",
   "execution_count": null,
   "id": "955dfee7",
   "metadata": {},
   "outputs": [],
   "source": [
    "%load_ext autoreload\n",
    "%autoreload 2"
   ]
  },
  {
   "cell_type": "code",
   "execution_count": null,
   "id": "b8226d99",
   "metadata": {},
   "outputs": [],
   "source": [
    "from IPython.core.display import display, HTML\n",
    "display(HTML(\"<style>.container { width: 90% !important; }</style>\"))"
   ]
  },
  {
   "cell_type": "code",
   "execution_count": null,
   "id": "9f5459ae",
   "metadata": {},
   "outputs": [],
   "source": [
    "from collections import defaultdict"
   ]
  },
  {
   "cell_type": "code",
   "execution_count": null,
   "id": "747a8a48",
   "metadata": {},
   "outputs": [],
   "source": [
    "import pandas as pd\n",
    "import numpy as np\n",
    "pd.set_option('display.max_colwidth', None)"
   ]
  },
  {
   "cell_type": "code",
   "execution_count": null,
   "id": "a81c3de0",
   "metadata": {},
   "outputs": [],
   "source": [
    "examplewords = ['talo', 'valo', 'voi', 'koira', 'voida']\n",
    "freqs = { 'talo': 1, 'valo': 5, 'koira': 3, 'voi': 10, 'oiva': 2, 'voida': 1}\n",
    "ig = defaultdict(int)\n",
    "fg = defaultdict(int)\n",
    "bg = defaultdict(int)"
   ]
  },
  {
   "cell_type": "code",
   "execution_count": null,
   "id": "4ca05cc2",
   "metadata": {},
   "outputs": [],
   "source": [
    "for word in examplewords:\n",
    "    ig[word[:3]] += freqs[word]\n",
    "    fg[word[-3:]] += freqs[word]\n",
    "    for i,j in zip(range(0, len(word)-1), range(2, len(word)+1)):\n",
    "        fragment = word[i:j]\n",
    "        bg[fragment] += freqs[word]\n",
    "\n",
    "igcols = ['word']\n",
    "fgcols = ['word']\n",
    "bgcols = ['word']\n",
    "igcols.extend(ig.keys())\n",
    "fgcols.extend(fg.keys())\n",
    "bgcols.extend(bg.keys())\n",
    "\n",
    "igdf = pd.DataFrame(columns=igcols)\n",
    "fgdf = pd.DataFrame(columns=fgcols)\n",
    "bgdf = pd.DataFrame(columns=bgcols)\n",
    "\n",
    "for word in examplewords:\n",
    "    row = [word]\n",
    "    for igk in ig.keys():\n",
    "        if igk == word[:3]:\n",
    "            row.append(freqs[word])\n",
    "        else:\n",
    "            row.append(0)\n",
    "    pdf = pd.DataFrame([row], columns=igcols)\n",
    "    igdf = pd.concat([igdf, pdf], axis=0, ignore_index=True)\n",
    "\n",
    "    row = [word]\n",
    "    for fgk in fg.keys():\n",
    "        if fgk == word[-3:]:\n",
    "            row.append(freqs[word])\n",
    "        else:\n",
    "            row.append(0)\n",
    "    pdf = pd.DataFrame([row], columns=fgcols)\n",
    "    fgdf = pd.concat([fgdf, pdf], axis=0, ignore_index=True)\n",
    "\n",
    "    row = [word]\n",
    "    # This doesn't account for the possibility that a bigram may appear in a word multiple times.\n",
    "    for bgk in bg.keys():\n",
    "        if bgk in word:\n",
    "            row.append(freqs[word])\n",
    "        else:\n",
    "            row.append(0)\n",
    "    pdf = pd.DataFrame([row], columns=bgcols)\n",
    "    bgdf = pd.concat([bgdf, pdf], axis=0, ignore_index=True)\n"
   ]
  },
  {
   "cell_type": "code",
   "execution_count": null,
   "id": "b436f866",
   "metadata": {},
   "outputs": [],
   "source": [
    "igdf"
   ]
  },
  {
   "cell_type": "code",
   "execution_count": null,
   "id": "cb6ec582",
   "metadata": {},
   "outputs": [],
   "source": [
    "fgdf"
   ]
  },
  {
   "cell_type": "code",
   "execution_count": null,
   "id": "54d41402",
   "metadata": {},
   "outputs": [],
   "source": [
    "bgdf"
   ]
  },
  {
   "cell_type": "code",
   "execution_count": null,
   "id": "67c6c2fc",
   "metadata": {},
   "outputs": [],
   "source": [
    "for word in examplewords:\n",
    "    ini = word[:3]\n",
    "    fin = word[-3:]\n",
    "    colsum1 = igdf[ini]\n",
    "    colsum2 = fgdf[fin]\n",
    "    # print(word, np.sum(colsum1.values), np.sum(colsum2.values))\n",
    "    print(f\"word {word:5s}, initrigram '{ini}': {np.sum(colsum1.values):2d}, fintrigram '{fin}': {np.sum(colsum2.values):2d}\")"
   ]
  },
  {
   "cell_type": "code",
   "execution_count": null,
   "id": "5ddcab53",
   "metadata": {},
   "outputs": [],
   "source": [
    "for word in examplewords:\n",
    "    bgs = bgdf[bgdf.word == word]\n",
    "    bgcols = [ c for c in bgdf.columns[1:] if bgs.loc[:,c].values[0] > 0]\n",
    "    colsums = [ bgdf[c].sum() for c in bgcols ]\n",
    "    avg = int(np.average(colsums))\n",
    "    print(f'word {word:5s}, columns: {\",\".join(bgcols):12s}: sums {str(colsums):14s} -> average {avg}')"
   ]
  },
  {
   "cell_type": "code",
   "execution_count": null,
   "id": "2079c584",
   "metadata": {},
   "outputs": [],
   "source": []
  }
 ],
 "metadata": {
  "kernelspec": {
   "display_name": "Python 3 (ipykernel)",
   "language": "python",
   "name": "python3"
  },
  "language_info": {
   "codemirror_mode": {
    "name": "ipython",
    "version": 3
   },
   "file_extension": ".py",
   "mimetype": "text/x-python",
   "name": "python",
   "nbconvert_exporter": "python",
   "pygments_lexer": "ipython3",
   "version": "3.8.8"
  }
 },
 "nbformat": 4,
 "nbformat_minor": 5
}
