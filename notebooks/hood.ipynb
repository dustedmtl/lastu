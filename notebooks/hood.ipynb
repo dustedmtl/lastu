{
 "cells": [
  {
   "cell_type": "code",
   "execution_count": null,
   "id": "4fb837d6",
   "metadata": {},
   "outputs": [],
   "source": [
    "%load_ext autoreload\n",
    "%autoreload 2"
   ]
  },
  {
   "cell_type": "code",
   "execution_count": null,
   "id": "38a321a2",
   "metadata": {},
   "outputs": [],
   "source": [
    "from IPython.display import display, HTML\n",
    "display(HTML(\"<style>.container { width: 95% !important; }</style>\"))"
   ]
  },
  {
   "cell_type": "code",
   "execution_count": null,
   "id": "c915d8d6",
   "metadata": {},
   "outputs": [],
   "source": [
    "from collections import Counter\n",
    "from tqdm.autonotebook import tqdm\n",
    "import sys\n",
    "sys.path.append('..')\n",
    "import logging"
   ]
  },
  {
   "cell_type": "code",
   "execution_count": null,
   "id": "e8aeb978",
   "metadata": {},
   "outputs": [],
   "source": [
    "logger = logging.getLogger('wm2')\n",
    "logging.basicConfig(stream=sys.stdout, level=logging.INFO)"
   ]
  },
  {
   "cell_type": "code",
   "execution_count": null,
   "id": "6052d655",
   "metadata": {},
   "outputs": [],
   "source": [
    "import pandas as pd\n",
    "# pd.set_option('display.max_colwidth', None)\n",
    "from symspellpy import SymSpell, Verbosity\n",
    "from uralicNLP import uralicApi\n",
    "from lib import dbutil"
   ]
  },
  {
   "cell_type": "code",
   "execution_count": null,
   "id": "529222b9",
   "metadata": {},
   "outputs": [],
   "source": [
    "# Uncomment this if you get errors from uralicNLP\n",
    "# uralicApi.download('fin')"
   ]
  },
  {
   "cell_type": "markdown",
   "id": "dd164e94",
   "metadata": {},
   "source": [
    "### Orthographic neighbourhood calculation\n",
    "\n",
    "Calculate the orthographic neighbourhood with a spelling dictionary.\n",
    " - symspellpy: https://github.com/mammothb/symspellpy\n",
    "\n",
    "Distance metrics:\n",
    " - Hamming distance of 1\n",
    "   - one letter substitution\n",
    "   - https://en.wikipedia.org/wiki/Hamming_distance\n",
    " - Levenshtein distance of 1\n",
    "   - one letter change: deletion, addition or substitution\n",
    "\n",
    "Only the Hamming distance is stored to the database."
   ]
  },
  {
   "cell_type": "code",
   "execution_count": null,
   "id": "c39140c4",
   "metadata": {},
   "outputs": [],
   "source": [
    "dbc = dbutil.DatabaseConnection('../data/ns24_freq2.db')"
   ]
  },
  {
   "cell_type": "code",
   "execution_count": null,
   "id": "719b37f1",
   "metadata": {},
   "outputs": [],
   "source": [
    "sdf = dbutil.adhoc_query(dbc.get_connection(), \"select * from forms\", todf=True)\n",
    "sdf"
   ]
  },
  {
   "cell_type": "code",
   "execution_count": null,
   "id": "770aca5e",
   "metadata": {},
   "outputs": [],
   "source": [
    "sym_spell = SymSpell(max_dictionary_edit_distance=1)"
   ]
  },
  {
   "cell_type": "code",
   "execution_count": null,
   "id": "d09912d4",
   "metadata": {},
   "outputs": [],
   "source": [
    "for idx, row in tqdm(sdf.iterrows(), total=len(sdf)):\n",
    "    word = row.form\n",
    "    freq = row.frequency\n",
    "    sym_spell.create_dictionary_entry(word, freq)"
   ]
  },
  {
   "cell_type": "markdown",
   "id": "40d52795",
   "metadata": {},
   "source": [
    "#### Neighbourhood calculation algorithm\n",
    "\n",
    "The algorithm uses a combination of the spelling dictionary and the uralicNLP morphological analyzer for Finnish.\n",
    " - First, the speller suggestions for a form are fetched from the dictionary.\n",
    " - Frequency cutoffs:\n",
    "   - If the frequency of the suggestion is higher than some preset value, the suggestion is accepted.\n",
    "   - If the frequency of the suggestion is lower than some preset value, the suggestion is rejected.\n",
    " - Otherwise the form is checked by morphological analyzer.\n",
    "   - If the morphological analyzer accepts the form (=finds an analysis), the suggestion is accepted.\n",
    " - The neighbourhood is the number of suggestions.\n",
    "\n",
    "Currently the frequency cutoffs are fixed; thus the neighbourhood values are not consummerate across databases of different sizes."
   ]
  },
  {
   "cell_type": "code",
   "execution_count": null,
   "id": "ae81078d",
   "metadata": {},
   "outputs": [],
   "source": [
    "autofreq = 10000\n",
    "minfreq = 100\n",
    "finals = {}\n",
    "for idx, row in tqdm(sdf.iterrows(), total=len(sdf)):\n",
    "    form = row.form\n",
    "    freq = row.frequency\n",
    "    suggestions = sym_spell.lookup(form, Verbosity.ALL)\n",
    "    formfinals = []\n",
    "    for suggestion in suggestions:       \n",
    "        # print(form, suggestion.term, suggestion.distance, suggestion.count)\n",
    "        ok = False\n",
    "        res = []\n",
    "        if suggestion.distance == 0:\n",
    "            ...\n",
    "        elif suggestion.count >= autofreq:\n",
    "            ok = True\n",
    "        elif suggestion.count < minfreq:\n",
    "            ...\n",
    "        else:\n",
    "            res = uralicApi.analyze(suggestion.term, \"fin\")\n",
    "            if len(res) > 0:\n",
    "                # print(suggestion.term, res, suggestion.count)\n",
    "                ok = True\n",
    "        if ok:\n",
    "            formfinals.append((suggestion.term, suggestion.count))\n",
    "    finals[form] = formfinals\n",
    "    # if idx > -1:\n",
    "    #     break\n"
   ]
  },
  {
   "cell_type": "code",
   "execution_count": null,
   "id": "53afdd5c",
   "metadata": {},
   "outputs": [],
   "source": [
    "levdict = Counter()\n",
    "hamdict = Counter()\n",
    "for key, analysis in tqdm(finals.items()):\n",
    "    levs = [w for w,_ in analysis]\n",
    "    hams = [w for w,_ in analysis if len(w) == len(key)]\n",
    "    levdict[key] = len(levs)\n",
    "    hamdict[key] = len(hams)"
   ]
  },
  {
   "cell_type": "markdown",
   "id": "83d7f234",
   "metadata": {},
   "source": [
    "#### Verify that the hood calculation produces the same results that are stored in the database"
   ]
  },
  {
   "cell_type": "code",
   "execution_count": null,
   "id": "12b9ac6a",
   "metadata": {},
   "outputs": [],
   "source": [
    "sdf2 = sdf[:10].copy()\n",
    "nuhoods = [hamdict[form] for form in sdf2.form]\n",
    "sdf2['nuhood'] = nuhoods\n",
    "sdf2"
   ]
  }
 ],
 "metadata": {
  "kernelspec": {
   "display_name": "Python 3 (ipykernel)",
   "language": "python",
   "name": "python3"
  },
  "language_info": {
   "codemirror_mode": {
    "name": "ipython",
    "version": 3
   },
   "file_extension": ".py",
   "mimetype": "text/x-python",
   "name": "python",
   "nbconvert_exporter": "python",
   "pygments_lexer": "ipython3",
   "version": "3.8.8"
  }
 },
 "nbformat": 4,
 "nbformat_minor": 5
}
