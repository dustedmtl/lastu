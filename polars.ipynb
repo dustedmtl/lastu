{
 "cells": [
  {
   "cell_type": "code",
   "execution_count": null,
   "id": "0f838f9a-b9c9-49a1-b0d3-4f00528effc8",
   "metadata": {},
   "outputs": [],
   "source": [
    "%load_ext autoreload\n",
    "%autoreload 2"
   ]
  },
  {
   "cell_type": "code",
   "execution_count": null,
   "id": "d8973817-b6c1-4893-baf9-df2d5ba9e979",
   "metadata": {},
   "outputs": [],
   "source": [
    "from IPython.display import display, HTML\n",
    "display(HTML(\"<style>.container { width: 95% !important; }</style>\"))\n",
    "import pandas as pd\n",
    "import polars as pl\n",
    "import numpy as np\n",
    "pd.set_option('display.max_colwidth', None)"
   ]
  },
  {
   "cell_type": "code",
   "execution_count": null,
   "id": "00dd9ea2-ee5f-4a65-a870-e76e2d3eab18",
   "metadata": {},
   "outputs": [],
   "source": [
    "from collections import defaultdict\n",
    "from tqdm.autonotebook import tqdm\n",
    "import sys\n",
    "from pathlib import Path\n",
    "from os.path import exists, getsize, join\n",
    "import logging\n",
    "import logging.config\n",
    "# import time\n",
    "# import random"
   ]
  },
  {
   "cell_type": "code",
   "execution_count": null,
   "id": "f4fdabd5-b860-481c-9f8d-52aa6dd6ef84",
   "metadata": {},
   "outputs": [],
   "source": [
    "from lib import corpus, dbutil, pubtools"
   ]
  },
  {
   "cell_type": "code",
   "execution_count": null,
   "id": "9e9b4cfd-0454-4642-bb43-39b610453b15",
   "metadata": {},
   "outputs": [],
   "source": [
    "from lib import polarsutil"
   ]
  },
  {
   "cell_type": "code",
   "execution_count": null,
   "id": "eefc82fa-9078-4220-ac4a-f9ea6452e3d4",
   "metadata": {},
   "outputs": [],
   "source": [
    "homedir = Path.home()\n",
    "wm2logconfig = {\n",
    "    'version': 1,\n",
    "    'disable_existing_loggers': False,\n",
    "    'root': {\n",
    "#        'handlers': ['console', 'file_handler'],\n",
    "        'handlers': ['console', 'file_handler'],\n",
    "        'level': 'DEBUG'\n",
    "    },\n",
    "    'formatters': {\n",
    "        'default_formatter': {\n",
    "            'format': '%(asctime)s %(levelname)s %(message)s',\n",
    "            'datefmt': '%d.%m.%Y %H:%M:%S'\n",
    "        },\n",
    "    },\n",
    "    'handlers': {\n",
    "        'console': {\n",
    "            'class': 'logging.StreamHandler',\n",
    "            'formatter': 'default_formatter',\n",
    "            'level': 'DEBUG'\n",
    "        },\n",
    "        'file_handler': {\n",
    "            'class': 'logging.FileHandler',\n",
    "            'formatter': 'default_formatter',\n",
    "            'filename': join(homedir, 'wm2log.txt'),\n",
    "            'level': 'DEBUG'\n",
    "        }\n",
    "    },\n",
    "}\n",
    "\n",
    "logging.config.dictConfig(wm2logconfig)\n",
    "logger = logging.getLogger('wm2')\n",
    "logger.info('info log')\n",
    "logger.debug('debug log')"
   ]
  },
  {
   "cell_type": "code",
   "execution_count": null,
   "id": "aa397a20-9307-443e-8843-0425ae8abfff",
   "metadata": {},
   "outputs": [],
   "source": [
    "csvfile = \"data/fi_parsebank_5B_20/tables/wordfreqs_combined.csv\""
   ]
  },
  {
   "cell_type": "code",
   "execution_count": null,
   "id": "f709a4b3-c938-4c75-b690-16fb3921f4de",
   "metadata": {},
   "outputs": [],
   "source": [
    "lazy_df = polarsutil.lazy_csv(csvfile)"
   ]
  },
  {
   "cell_type": "code",
   "execution_count": null,
   "id": "3aa8fd2a-b4e5-4c5b-8682-2686f3a86720",
   "metadata": {},
   "outputs": [],
   "source": [
    "lazy_df"
   ]
  },
  {
   "cell_type": "code",
   "execution_count": null,
   "id": "9e54ef6f-afb6-494d-b913-3b1712023547",
   "metadata": {},
   "outputs": [],
   "source": [
    "filters = {\n",
    "    \"pos\": [\n",
    "        {\"type\": \"equal\", \"value\": \"NOUN\"}\n",
    "    ],\n",
    "    \"case\": [\n",
    "        {\"type\": \"equal\", \"value\": [\"Ine\", \"Gen\"]}\n",
    "    ],\n",
    "#    \"form\": [\n",
    "#        {\"type\": \"ends_with\", \"value\": [\"ssa\", \"ssä\"], \"negate\": False}\n",
    "#    ]\n",
    "}"
   ]
  },
  {
   "cell_type": "code",
   "execution_count": null,
   "id": "095478d3-dc50-4c49-99ad-7fd887c7880f",
   "metadata": {},
   "outputs": [],
   "source": [
    "df = polarsutil.query_lazy_df(lazy_df, filters)"
   ]
  },
  {
   "cell_type": "code",
   "execution_count": null,
   "id": "f80a950d-2432-49c5-a523-b559be27c9e9",
   "metadata": {},
   "outputs": [],
   "source": [
    "df"
   ]
  },
  {
   "cell_type": "code",
   "execution_count": null,
   "id": "e8ff9123-937c-4a60-98e2-390a70a15f53",
   "metadata": {},
   "outputs": [],
   "source": [
    "filters2 = {\n",
    "    \"pos\": [\n",
    "        {\"type\": \"equal\", \"value\": \"NOUN\", \"negate\": True}\n",
    "    ]\n",
    "}"
   ]
  },
  {
   "cell_type": "code",
   "execution_count": null,
   "id": "936f7e59-44ec-472a-bc92-a64f92c682b7",
   "metadata": {},
   "outputs": [],
   "source": [
    "df = polarsutil.query_lazy_df(lazy_df, filters2)"
   ]
  },
  {
   "cell_type": "code",
   "execution_count": null,
   "id": "967a8fec-fdea-4886-8b88-fd2e956ea9ac",
   "metadata": {},
   "outputs": [],
   "source": [
    "df"
   ]
  },
  {
   "cell_type": "code",
   "execution_count": null,
   "id": "c1d62cf0-a48b-4b64-9deb-7ccbd716baeb",
   "metadata": {},
   "outputs": [],
   "source": [
    "filters3 = {\n",
    "    \"frequency\": [\n",
    "        {\"type\": \"greater_than\", \"value\": 1000000, \"negate\": False}\n",
    "    ]\n",
    "}"
   ]
  },
  {
   "cell_type": "code",
   "execution_count": null,
   "id": "704224a8-8d78-4dbb-941d-9b91eec48981",
   "metadata": {},
   "outputs": [],
   "source": [
    "df = polarsutil.query_lazy_df(lazy_df, filters3)"
   ]
  },
  {
   "cell_type": "code",
   "execution_count": null,
   "id": "68870851-a7d1-43a8-b77c-90b5e2e0e3d7",
   "metadata": {},
   "outputs": [],
   "source": [
    "df"
   ]
  },
  {
   "cell_type": "code",
   "execution_count": null,
   "id": "8abf148f-f0e3-4e94-a5db-89670b425cc2",
   "metadata": {},
   "outputs": [],
   "source": [
    "k, e = polarsutil.parse_query_polars(\"end in ssa,ssä and \", lazy_df)\n",
    "k"
   ]
  },
  {
   "cell_type": "code",
   "execution_count": null,
   "id": "5f7b36d1-e1fd-4d2a-a631-e12ea3031a3a",
   "metadata": {},
   "outputs": [],
   "source": [
    "k, e = polarsutil.parse_query_polars(\"end in ssa,ssä and pos = 'NOUN' and len = 5\", lazy_df)\n",
    "k"
   ]
  },
  {
   "cell_type": "code",
   "execution_count": null,
   "id": "686d7109-7844-4648-8418-9406b875afaa",
   "metadata": {},
   "outputs": [],
   "source": [
    "f = polarsutil.query_to_filter(\"end in ssa,ssä and pos = 'NOUN'\", lazy_df)"
   ]
  },
  {
   "cell_type": "code",
   "execution_count": null,
   "id": "6caec6b5-34cd-4b0a-a1dd-9e76dd678855",
   "metadata": {},
   "outputs": [],
   "source": [
    "f = polarsutil.query_to_filter(\"end in ssa,ssä\", lazy_df)"
   ]
  },
  {
   "cell_type": "code",
   "execution_count": null,
   "id": "c91fa968-ec72-4fc0-aa66-521963762156",
   "metadata": {},
   "outputs": [],
   "source": [
    "f"
   ]
  },
  {
   "cell_type": "code",
   "execution_count": null,
   "id": "eeee3cbe-179b-42e3-9936-c4cc4ec6a2ba",
   "metadata": {},
   "outputs": [],
   "source": [
    "df = polarsutil.query_lazy_df(lazy_df, f)"
   ]
  },
  {
   "cell_type": "code",
   "execution_count": null,
   "id": "2642552e-c789-45d8-bf48-810514882104",
   "metadata": {},
   "outputs": [],
   "source": [
    "df"
   ]
  },
  {
   "cell_type": "code",
   "execution_count": null,
   "id": "ece79005-e7ea-48ba-9641-9ece2595d983",
   "metadata": {},
   "outputs": [],
   "source": [
    "df = polarsutil.query(lazy_df, \"end in ssa,ssä and pos = NOUN\")\n",
    "df"
   ]
  },
  {
   "cell_type": "code",
   "execution_count": null,
   "id": "f70735ce-2f0c-4756-af80-6e50c4cb0ede",
   "metadata": {},
   "outputs": [],
   "source": [
    "df = polarsutil.query(lazy_df, \"pos in noun and not compound and lemmalen > 5\")\n",
    "df"
   ]
  },
  {
   "cell_type": "code",
   "execution_count": null,
   "id": "34bb01a9-000f-4287-a569-8cbf94059c7f",
   "metadata": {},
   "outputs": [],
   "source": [
    "df = polarsutil.query(lazy_df, \"lemma = valtakunta\")"
   ]
  },
  {
   "cell_type": "code",
   "execution_count": null,
   "id": "cec11eb1-5e34-4f59-8c77-4b692d0289f2",
   "metadata": {},
   "outputs": [],
   "source": [
    "df = polarsutil.query(lazy_df, \"lemma = valtakunta and compound and start = v\")"
   ]
  },
  {
   "cell_type": "code",
   "execution_count": null,
   "id": "542f784e-097e-42ea-8597-5930400a4d6e",
   "metadata": {},
   "outputs": [],
   "source": [
    "df"
   ]
  },
  {
   "cell_type": "code",
   "execution_count": null,
   "id": "e0793110-a120-43fb-9fb2-68e4655687b2",
   "metadata": {},
   "outputs": [],
   "source": [
    "df = polarsutil.query(lazy_df, \"start = la and middle != la\")"
   ]
  },
  {
   "cell_type": "code",
   "execution_count": null,
   "id": "3a6d0b83-2ccc-4915-8173-d05143842972",
   "metadata": {},
   "outputs": [],
   "source": [
    "df"
   ]
  },
  {
   "cell_type": "code",
   "execution_count": null,
   "id": "11feb228-085f-4aa2-9354-319affdf93e2",
   "metadata": {},
   "outputs": [],
   "source": [
    "df = polarsutil.query(lazy_df, \"case not in Ine,Gen\")"
   ]
  },
  {
   "cell_type": "code",
   "execution_count": null,
   "id": "ef71e81c-b784-45e2-adc6-d133ac85f92f",
   "metadata": {},
   "outputs": [],
   "source": [
    "df"
   ]
  },
  {
   "cell_type": "code",
   "execution_count": null,
   "id": "66740ae0-77e6-4d09-a856-03021a4e1151",
   "metadata": {},
   "outputs": [],
   "source": [
    "df = polarsutil.query(lazy_df, \"nouncase in Ill,Gen and pos in PROPN,NOUN and foo = 0 and len >   a and naat compound and len ~= 10 and len<10\")"
   ]
  },
  {
   "cell_type": "code",
   "execution_count": null,
   "id": "118a19a7-be9d-46aa-b47e-7ccf66c8ce71",
   "metadata": {},
   "outputs": [],
   "source": [
    "df = polarsutil.query(lazy_df, \"clitic != _\")"
   ]
  },
  {
   "cell_type": "code",
   "execution_count": null,
   "id": "7dd65d0a-f47c-4c79-a430-3fa95b7d6f35",
   "metadata": {},
   "outputs": [],
   "source": [
    "df"
   ]
  },
  {
   "cell_type": "code",
   "execution_count": null,
   "id": "82e2d03b-e6d8-438a-82ff-e37ea2297a9a",
   "metadata": {},
   "outputs": [],
   "source": [
    "df = polarsutil.query(lazy_df, \"clitic not in Kin,Kaan\")\n",
    "df"
   ]
  },
  {
   "cell_type": "code",
   "execution_count": null,
   "id": "2cc516f2-63b0-45fb-b024-e0e1afd2d386",
   "metadata": {},
   "outputs": [],
   "source": [
    "df = polarsutil.query(lazy_df, \"clitic in Kin,Kaan\")\n",
    "df"
   ]
  },
  {
   "cell_type": "code",
   "execution_count": null,
   "id": "b5da28fa-54b5-4ba1-b8c5-b4edbea652e2",
   "metadata": {},
   "outputs": [],
   "source": [
    "df = polarsutil.query(lazy_df, \"clitic not in Kin,Kaan\")\n",
    "df"
   ]
  },
  {
   "cell_type": "code",
   "execution_count": null,
   "id": "69035938-0ef6-4a8d-b803-5a3f877e3ab8",
   "metadata": {},
   "outputs": [],
   "source": [
    "df = polarsutil.query(lazy_df, \"derivation in Ja and derivation in Tar\")\n",
    "df"
   ]
  },
  {
   "cell_type": "code",
   "execution_count": null,
   "id": "e17993bb-9db3-4370-9872-3b17f15bcde4",
   "metadata": {},
   "outputs": [],
   "source": [
    "df = polarsutil.query(lazy_df, \"form = suvaitsevaisuus\")\n",
    "df"
   ]
  },
  {
   "cell_type": "code",
   "execution_count": null,
   "id": "4de47b04-cfff-4234-9bdf-b2ada315940f",
   "metadata": {},
   "outputs": [],
   "source": [
    "df = polarsutil.query(lazy_df, \"derivation = Inen and derivation = Vs\")\n",
    "df"
   ]
  },
  {
   "cell_type": "code",
   "execution_count": null,
   "id": "c147cc39-b1bf-46c2-9add-6ecfe9f1c03e",
   "metadata": {},
   "outputs": [],
   "source": [
    "df = polarsutil.query(lazy_df, \"derivation = l\")\n",
    "df"
   ]
  },
  {
   "cell_type": "code",
   "execution_count": null,
   "id": "0547a9b0-0e12-45e2-aa95-c391b7532a34",
   "metadata": {},
   "outputs": [],
   "source": []
  }
 ],
 "metadata": {
  "kernelspec": {
   "display_name": "Python 3 (ipykernel)",
   "language": "python",
   "name": "python3"
  },
  "language_info": {
   "codemirror_mode": {
    "name": "ipython",
    "version": 3
   },
   "file_extension": ".py",
   "mimetype": "text/x-python",
   "name": "python",
   "nbconvert_exporter": "python",
   "pygments_lexer": "ipython3",
   "version": "3.9.6"
  }
 },
 "nbformat": 4,
 "nbformat_minor": 5
}
