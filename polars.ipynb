{
 "cells": [
  {
   "cell_type": "code",
   "execution_count": null,
   "id": "0f838f9a-b9c9-49a1-b0d3-4f00528effc8",
   "metadata": {},
   "outputs": [],
   "source": [
    "%load_ext autoreload\n",
    "%autoreload 2"
   ]
  },
  {
   "cell_type": "code",
   "execution_count": null,
   "id": "d8973817-b6c1-4893-baf9-df2d5ba9e979",
   "metadata": {},
   "outputs": [],
   "source": [
    "from IPython.display import display, HTML\n",
    "display(HTML(\"<style>.container { width: 95% !important; }</style>\"))\n",
    "import pandas as pd\n",
    "import polars as pl\n",
    "import numpy as np\n",
    "pd.set_option('display.max_colwidth', None)"
   ]
  },
  {
   "cell_type": "code",
   "execution_count": null,
   "id": "00dd9ea2-ee5f-4a65-a870-e76e2d3eab18",
   "metadata": {},
   "outputs": [],
   "source": [
    "from collections import defaultdict\n",
    "from tqdm.autonotebook import tqdm\n",
    "import sys\n",
    "from pathlib import Path\n",
    "from os.path import exists, getsize, join\n",
    "import logging\n",
    "import logging.config\n",
    "# import time\n",
    "# import random"
   ]
  },
  {
   "cell_type": "code",
   "execution_count": null,
   "id": "f4fdabd5-b860-481c-9f8d-52aa6dd6ef84",
   "metadata": {},
   "outputs": [],
   "source": [
    "from lib import corpus, dbutil, pubtools"
   ]
  },
  {
   "cell_type": "code",
   "execution_count": null,
   "id": "9e9b4cfd-0454-4642-bb43-39b610453b15",
   "metadata": {},
   "outputs": [],
   "source": [
    "from lib import polarsutil"
   ]
  },
  {
   "cell_type": "code",
   "execution_count": null,
   "id": "eefc82fa-9078-4220-ac4a-f9ea6452e3d4",
   "metadata": {},
   "outputs": [],
   "source": [
    "homedir = Path.home()\n",
    "wm2logconfig = {\n",
    "    'version': 1,\n",
    "    'disable_existing_loggers': False,\n",
    "    'root': {\n",
    "#        'handlers': ['console', 'file_handler'],\n",
    "        'handlers': ['console', 'file_handler'],\n",
    "        'level': 'DEBUG'\n",
    "    },\n",
    "    'formatters': {\n",
    "        'default_formatter': {\n",
    "            'format': '%(asctime)s %(levelname)s %(message)s',\n",
    "            'datefmt': '%d.%m.%Y %H:%M:%S'\n",
    "        },\n",
    "    },\n",
    "    'handlers': {\n",
    "        'console': {\n",
    "            'class': 'logging.StreamHandler',\n",
    "            'formatter': 'default_formatter',\n",
    "            'level': 'DEBUG'\n",
    "        },\n",
    "        'file_handler': {\n",
    "            'class': 'logging.FileHandler',\n",
    "            'formatter': 'default_formatter',\n",
    "            'filename': join(homedir, 'wm2log.txt'),\n",
    "            'level': 'DEBUG'\n",
    "        }\n",
    "    },\n",
    "}\n",
    "\n",
    "logging.config.dictConfig(wm2logconfig)\n",
    "logger = logging.getLogger('wm2')\n",
    "logger.info('info log')\n",
    "logger.debug('debug log')"
   ]
  },
  {
   "cell_type": "code",
   "execution_count": null,
   "id": "aa397a20-9307-443e-8843-0425ae8abfff",
   "metadata": {},
   "outputs": [],
   "source": [
    "csvfile = \"data/fi_parsebank_5B_20/tables/wordfreqs_combined.csv\""
   ]
  },
  {
   "cell_type": "code",
   "execution_count": null,
   "id": "f709a4b3-c938-4c75-b690-16fb3921f4de",
   "metadata": {},
   "outputs": [],
   "source": [
    "lazy_df = polarsutil.lazy_csv(csvfile)"
   ]
  },
  {
   "cell_type": "code",
   "execution_count": null,
   "id": "3aa8fd2a-b4e5-4c5b-8682-2686f3a86720",
   "metadata": {},
   "outputs": [],
   "source": [
    "lazy_df"
   ]
  },
  {
   "cell_type": "code",
   "execution_count": null,
   "id": "591dd838-89e1-4afb-b4a6-52699bcd745c",
   "metadata": {},
   "outputs": [],
   "source": [
    "df = polarsutil.query_lazy_df(lazy_df, pl.col('pos').is_in(['NOUN']))"
   ]
  },
  {
   "cell_type": "code",
   "execution_count": null,
   "id": "99f52ca2-adef-4c8e-b24e-c81f50da07bd",
   "metadata": {},
   "outputs": [],
   "source": [
    "df"
   ]
  },
  {
   "cell_type": "code",
   "execution_count": null,
   "id": "9e54ef6f-afb6-494d-b913-3b1712023547",
   "metadata": {},
   "outputs": [],
   "source": [
    "filters = {\n",
    "#    \"pos\": [\n",
    "#        {\"type\": \"equal\", \"value\": \"NOUN\"}\n",
    "#    ],\n",
    "    \"case\": [\n",
    "        {\"type\": \"equal\", \"value\": [\"Ine\", \"Gen\"]}\n",
    "    ],\n",
    "#    \"form\": [\n",
    "#        {\"type\": \"ends_with\", \"value\": [\"ssa\", \"ssä\"], \"negate\": False}\n",
    "#    ]\n",
    "}"
   ]
  },
  {
   "cell_type": "code",
   "execution_count": null,
   "id": "095478d3-dc50-4c49-99ad-7fd887c7880f",
   "metadata": {},
   "outputs": [],
   "source": [
    "df = polarsutil.query_lazy_df(lazy_df, filters)"
   ]
  },
  {
   "cell_type": "code",
   "execution_count": null,
   "id": "f80a950d-2432-49c5-a523-b559be27c9e9",
   "metadata": {},
   "outputs": [],
   "source": [
    "df"
   ]
  },
  {
   "cell_type": "code",
   "execution_count": null,
   "id": "e8ff9123-937c-4a60-98e2-390a70a15f53",
   "metadata": {},
   "outputs": [],
   "source": [
    "filters2 = {\n",
    "    \"pos\": [\n",
    "        {\"type\": \"equal\", \"value\": \"NOUN\", \"negate\": True}\n",
    "    ]\n",
    "}"
   ]
  },
  {
   "cell_type": "code",
   "execution_count": null,
   "id": "936f7e59-44ec-472a-bc92-a64f92c682b7",
   "metadata": {},
   "outputs": [],
   "source": [
    "df = polarsutil.query_lazy_df(lazy_df, filters2)"
   ]
  },
  {
   "cell_type": "code",
   "execution_count": null,
   "id": "967a8fec-fdea-4886-8b88-fd2e956ea9ac",
   "metadata": {},
   "outputs": [],
   "source": [
    "df"
   ]
  },
  {
   "cell_type": "code",
   "execution_count": null,
   "id": "c1d62cf0-a48b-4b64-9deb-7ccbd716baeb",
   "metadata": {},
   "outputs": [],
   "source": [
    "filters3 = {\n",
    "    \"frequency\": [\n",
    "        {\"type\": \"greater_than\", \"value\": 1000000, \"negate\": False}\n",
    "    ]\n",
    "}"
   ]
  },
  {
   "cell_type": "code",
   "execution_count": null,
   "id": "704224a8-8d78-4dbb-941d-9b91eec48981",
   "metadata": {},
   "outputs": [],
   "source": [
    "df = polarsutil.query_lazy_df(lazy_df, filters3)"
   ]
  },
  {
   "cell_type": "code",
   "execution_count": null,
   "id": "68870851-a7d1-43a8-b77c-90b5e2e0e3d7",
   "metadata": {},
   "outputs": [],
   "source": [
    "df"
   ]
  },
  {
   "cell_type": "code",
   "execution_count": null,
   "id": "8abf148f-f0e3-4e94-a5db-89670b425cc2",
   "metadata": {},
   "outputs": [],
   "source": []
  }
 ],
 "metadata": {
  "kernelspec": {
   "display_name": "Python 3 (ipykernel)",
   "language": "python",
   "name": "python3"
  },
  "language_info": {
   "codemirror_mode": {
    "name": "ipython",
    "version": 3
   },
   "file_extension": ".py",
   "mimetype": "text/x-python",
   "name": "python",
   "nbconvert_exporter": "python",
   "pygments_lexer": "ipython3",
   "version": "3.9.6"
  }
 },
 "nbformat": 4,
 "nbformat_minor": 5
}
