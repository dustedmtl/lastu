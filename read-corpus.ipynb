{
 "cells": [
  {
   "cell_type": "code",
   "execution_count": null,
   "id": "955dfee7",
   "metadata": {},
   "outputs": [],
   "source": [
    "%load_ext autoreload\n",
    "%autoreload 2"
   ]
  },
  {
   "cell_type": "code",
   "execution_count": null,
   "id": "b8226d99",
   "metadata": {},
   "outputs": [],
   "source": [
    "from IPython.display import display, HTML\n",
    "display(HTML(\"<style>.container { width: 90% !important; }</style>\"))"
   ]
  },
  {
   "cell_type": "code",
   "execution_count": null,
   "id": "037b3ec8",
   "metadata": {},
   "outputs": [],
   "source": [
    "from lib import corpus, dbutil\n",
    "# from uralicNLP import uralicApi"
   ]
  },
  {
   "cell_type": "code",
   "execution_count": null,
   "id": "747a8a48",
   "metadata": {},
   "outputs": [],
   "source": [
    "import pandas as pd\n",
    "pd.set_option('display.max_colwidth', None)"
   ]
  },
  {
   "cell_type": "code",
   "execution_count": null,
   "id": "3d81661f",
   "metadata": {},
   "outputs": [],
   "source": [
    "dbc = dbutil.DatabaseConnection('data/ns24_5.db')"
   ]
  },
  {
   "cell_type": "code",
   "execution_count": null,
   "id": "73a0523e",
   "metadata": {},
   "outputs": [],
   "source": [
    "df = dbutil.adhoc_query(dbc.get_connection(), 'select * from wordfreqs', todf=True, verbose=True)"
   ]
  },
  {
   "cell_type": "code",
   "execution_count": null,
   "id": "6df51f04",
   "metadata": {},
   "outputs": [],
   "source": [
    "len(df)"
   ]
  },
  {
   "cell_type": "code",
   "execution_count": null,
   "id": "8276dfbb",
   "metadata": {},
   "outputs": [],
   "source": [
    "df5 = analysis.merge_column(df, 'pos', 'AUX', 'VERB')"
   ]
  },
  {
   "cell_type": "code",
   "execution_count": null,
   "id": "825a8684",
   "metadata": {},
   "outputs": [],
   "source": [
    "df5"
   ]
  },
  {
   "cell_type": "code",
   "execution_count": null,
   "id": "e78f51b6",
   "metadata": {},
   "outputs": [],
   "source": [
    "df6 = df5[(df5.form.str.isalpha())\n",
    "    & (df5.len > 1)\n",
    "    & (df5.lemma.str.len() > 1)\n",
    "    & (df5.pos != 'X')\n",
    "    & (df5.pos != 'PUNCT')\n",
    "    & (df5.lemma.str.startswith('#') == False)\n",
    "    & (df5.lemma.str.startswith('_') == False)\n",
    "    & (df5.lemma.str.startswith('-') == False)\n",
    "    & (df5.lemma.str.startswith(':') == False)]"
   ]
  },
  {
   "cell_type": "code",
   "execution_count": null,
   "id": "28d8ee21",
   "metadata": {},
   "outputs": [],
   "source": [
    "df6"
   ]
  },
  {
   "cell_type": "code",
   "execution_count": null,
   "id": "e3c2e7ac",
   "metadata": {},
   "outputs": [],
   "source": [
    "df6[df6.form == 'mikko']"
   ]
  },
  {
   "cell_type": "code",
   "execution_count": null,
   "id": "83b6f88a",
   "metadata": {},
   "outputs": [],
   "source": [
    "df6[df6.form == 'voi']"
   ]
  },
  {
   "cell_type": "code",
   "execution_count": null,
   "id": "dac2c42b",
   "metadata": {},
   "outputs": [],
   "source": [
    "df6_agg = df6.groupby(['lemma', 'form', 'pos']).aggregate({'frequency': 'sum'}).reset_index()"
   ]
  },
  {
   "cell_type": "code",
   "execution_count": null,
   "id": "6332466d",
   "metadata": {},
   "outputs": [],
   "source": [
    "df6_agg[df6_agg.form == 'voi']"
   ]
  },
  {
   "cell_type": "code",
   "execution_count": null,
   "id": "c57e4d10",
   "metadata": {},
   "outputs": [],
   "source": []
  }
 ],
 "metadata": {
  "kernelspec": {
   "display_name": "Python 3 (ipykernel)",
   "language": "python",
   "name": "python3"
  },
  "language_info": {
   "codemirror_mode": {
    "name": "ipython",
    "version": 3
   },
   "file_extension": ".py",
   "mimetype": "text/x-python",
   "name": "python",
   "nbconvert_exporter": "python",
   "pygments_lexer": "ipython3",
   "version": "3.8.8"
  }
 },
 "nbformat": 4,
 "nbformat_minor": 5
}
