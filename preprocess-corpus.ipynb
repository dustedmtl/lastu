{
 "cells": [
  {
   "cell_type": "code",
   "execution_count": 1,
   "id": "eb585431",
   "metadata": {},
   "outputs": [],
   "source": [
    "%load_ext autoreload\n",
    "%autoreload 2"
   ]
  },
  {
   "cell_type": "code",
   "execution_count": 2,
   "id": "b8226d99",
   "metadata": {},
   "outputs": [
    {
     "name": "stderr",
     "output_type": "stream",
     "text": [
      "/var/folders/1j/drg6fbds6bg2wd8lv32jdzyw65q1ws/T/ipykernel_4824/1189900070.py:1: DeprecationWarning: Importing display from IPython.core.display is deprecated since IPython 7.14, please import from IPython display\n",
      "  from IPython.core.display import display, HTML\n"
     ]
    },
    {
     "data": {
      "text/html": [
       "<style>.container { width: 90% !important; }</style>"
      ],
      "text/plain": [
       "<IPython.core.display.HTML object>"
      ]
     },
     "metadata": {},
     "output_type": "display_data"
    }
   ],
   "source": [
    "from IPython.core.display import display, HTML\n",
    "display(HTML(\"<style>.container { width: 90% !important; }</style>\"))"
   ]
  },
  {
   "cell_type": "code",
   "execution_count": 3,
   "id": "4ba1aec9",
   "metadata": {},
   "outputs": [],
   "source": [
    "import pyconll"
   ]
  },
  {
   "cell_type": "code",
   "execution_count": 4,
   "id": "037b3ec8",
   "metadata": {},
   "outputs": [],
   "source": [
    "from lib import corpus, dbutil"
   ]
  },
  {
   "cell_type": "code",
   "execution_count": 5,
   "id": "86f12792",
   "metadata": {},
   "outputs": [],
   "source": [
    "sqlcon = dbutil.get_connection('data/gutenberg.db')"
   ]
  },
  {
   "cell_type": "code",
   "execution_count": 6,
   "id": "d1445b4a",
   "metadata": {},
   "outputs": [],
   "source": [
    "# freqs = corpus.conllu_reader('../gutenfin/corpora/gutenberg/output/8669-8.conllu')\n",
    "# print(len(freqs[0]))"
   ]
  },
  {
   "cell_type": "code",
   "execution_count": 7,
   "id": "a15a98e4",
   "metadata": {
    "scrolled": false
   },
   "outputs": [
    {
     "data": {
      "application/json": {
       "ascii": false,
       "bar_format": null,
       "colour": null,
       "elapsed": 0.016294240951538086,
       "initial": 0,
       "n": 0,
       "ncols": null,
       "nrows": 40,
       "postfix": null,
       "prefix": "",
       "rate": null,
       "total": 1963,
       "unit": "it",
       "unit_divisor": 1000,
       "unit_scale": false
      },
      "application/vnd.jupyter.widget-view+json": {
       "model_id": "b750271d35894a79b726d3d9bff43835",
       "version_major": 2,
       "version_minor": 0
      },
      "text/plain": [
       "  0%|          | 0/1963 [00:00<?, ?it/s]"
      ]
     },
     "metadata": {},
     "output_type": "display_data"
    },
    {
     "name": "stdout",
     "output_type": "stream",
     "text": [
      "Reading file: 14807-8.conllu\r"
     ]
    }
   ],
   "source": [
    "freqs2 = corpus.conllu_reader('../gutenfin/corpora/gutenberg/output/', verbose=True)"
   ]
  },
  {
   "cell_type": "code",
   "execution_count": 8,
   "id": "cda2a77a",
   "metadata": {},
   "outputs": [
    {
     "name": "stdout",
     "output_type": "stream",
     "text": [
      "1006441\n"
     ]
    }
   ],
   "source": [
    "print(len(freqs2[0]))"
   ]
  },
  {
   "cell_type": "code",
   "execution_count": 19,
   "id": "bc43785d",
   "metadata": {
    "scrolled": false
   },
   "outputs": [
    {
     "data": {
      "text/plain": [
       "[((',', ',', 'PUNCT'), 1539941),\n",
       " (('.', '.', 'PUNCT'), 1119106),\n",
       " (('ja', 'ja', 'CCONJ'), 619226),\n",
       " (('\"', '\"', 'PUNCT'), 320585),\n",
       " (('hän', 'hän', 'PRON'), 288133),\n",
       " (('olla', 'oli', 'AUX'), 245741),\n",
       " (('-', '--', 'PUNCT'), 190115),\n",
       " (('olla', 'on', 'AUX'), 181792),\n",
       " (('ei', 'ei', 'AUX'), 161123),\n",
       " (('että', 'että', 'SCONJ'), 154424)]"
      ]
     },
     "execution_count": 19,
     "metadata": {},
     "output_type": "execute_result"
    }
   ],
   "source": [
    "freqs2[0].most_common(10)"
   ]
  },
  {
   "cell_type": "code",
   "execution_count": 20,
   "id": "b29fae44",
   "metadata": {},
   "outputs": [],
   "source": [
    "dbutil.write_freqs_to_db(sqlcon, freqs2)"
   ]
  },
  {
   "cell_type": "code",
   "execution_count": 9,
   "id": "37154616",
   "metadata": {},
   "outputs": [],
   "source": [
    "df = dbutil.get_frequency_dataframe(sqlcon)"
   ]
  },
  {
   "cell_type": "code",
   "execution_count": 10,
   "id": "2d28ca29",
   "metadata": {},
   "outputs": [
    {
     "data": {
      "text/html": [
       "<div>\n",
       "<style scoped>\n",
       "    .dataframe tbody tr th:only-of-type {\n",
       "        vertical-align: middle;\n",
       "    }\n",
       "\n",
       "    .dataframe tbody tr th {\n",
       "        vertical-align: top;\n",
       "    }\n",
       "\n",
       "    .dataframe thead th {\n",
       "        text-align: right;\n",
       "    }\n",
       "</style>\n",
       "<table border=\"1\" class=\"dataframe\">\n",
       "  <thead>\n",
       "    <tr style=\"text-align: right;\">\n",
       "      <th></th>\n",
       "      <th>lemma</th>\n",
       "      <th>form</th>\n",
       "      <th>pos</th>\n",
       "      <th>frequency</th>\n",
       "      <th>len</th>\n",
       "    </tr>\n",
       "  </thead>\n",
       "  <tbody>\n",
       "    <tr>\n",
       "      <th>0</th>\n",
       "      <td>produced</td>\n",
       "      <td>produced</td>\n",
       "      <td>PROPN</td>\n",
       "      <td>1545</td>\n",
       "      <td>8</td>\n",
       "    </tr>\n",
       "    <tr>\n",
       "      <th>1</th>\n",
       "      <td>by</td>\n",
       "      <td>by</td>\n",
       "      <td>PROPN</td>\n",
       "      <td>1747</td>\n",
       "      <td>2</td>\n",
       "    </tr>\n",
       "    <tr>\n",
       "      <th>2</th>\n",
       "      <td>jari</td>\n",
       "      <td>jari</td>\n",
       "      <td>PROPN</td>\n",
       "      <td>136</td>\n",
       "      <td>4</td>\n",
       "    </tr>\n",
       "    <tr>\n",
       "      <th>3</th>\n",
       "      <td>koivisto</td>\n",
       "      <td>koivisto</td>\n",
       "      <td>PROPN</td>\n",
       "      <td>142</td>\n",
       "      <td>8</td>\n",
       "    </tr>\n",
       "    <tr>\n",
       "      <th>4</th>\n",
       "      <td>elämä</td>\n",
       "      <td>elämän</td>\n",
       "      <td>NOUN</td>\n",
       "      <td>4002</td>\n",
       "      <td>6</td>\n",
       "    </tr>\n",
       "    <tr>\n",
       "      <th>...</th>\n",
       "      <td>...</td>\n",
       "      <td>...</td>\n",
       "      <td>...</td>\n",
       "      <td>...</td>\n",
       "      <td>...</td>\n",
       "    </tr>\n",
       "    <tr>\n",
       "      <th>1006436</th>\n",
       "      <td>joju</td>\n",
       "      <td>jojun</td>\n",
       "      <td>PROPN</td>\n",
       "      <td>1</td>\n",
       "      <td>5</td>\n",
       "    </tr>\n",
       "    <tr>\n",
       "      <th>1006437</th>\n",
       "      <td>lehevä</td>\n",
       "      <td>lehevän</td>\n",
       "      <td>ADJ</td>\n",
       "      <td>1</td>\n",
       "      <td>7</td>\n",
       "    </tr>\n",
       "    <tr>\n",
       "      <th>1006438</th>\n",
       "      <td>tuokkonen</td>\n",
       "      <td>tuokkoseni</td>\n",
       "      <td>NOUN</td>\n",
       "      <td>1</td>\n",
       "      <td>10</td>\n",
       "    </tr>\n",
       "    <tr>\n",
       "      <th>1006439</th>\n",
       "      <td>koppa</td>\n",
       "      <td>koppani</td>\n",
       "      <td>NOUN</td>\n",
       "      <td>1</td>\n",
       "      <td>7</td>\n",
       "    </tr>\n",
       "    <tr>\n",
       "      <th>1006440</th>\n",
       "      <td>marja#tuokkos</td>\n",
       "      <td>marjatuokkostansa</td>\n",
       "      <td>NOUN</td>\n",
       "      <td>1</td>\n",
       "      <td>17</td>\n",
       "    </tr>\n",
       "  </tbody>\n",
       "</table>\n",
       "<p>1006441 rows × 5 columns</p>\n",
       "</div>"
      ],
      "text/plain": [
       "                 lemma               form    pos  frequency  len\n",
       "0             produced           produced  PROPN       1545    8\n",
       "1                   by                 by  PROPN       1747    2\n",
       "2                 jari               jari  PROPN        136    4\n",
       "3             koivisto           koivisto  PROPN        142    8\n",
       "4                elämä             elämän   NOUN       4002    6\n",
       "...                ...                ...    ...        ...  ...\n",
       "1006436           joju              jojun  PROPN          1    5\n",
       "1006437         lehevä            lehevän    ADJ          1    7\n",
       "1006438      tuokkonen         tuokkoseni   NOUN          1   10\n",
       "1006439          koppa            koppani   NOUN          1    7\n",
       "1006440  marja#tuokkos  marjatuokkostansa   NOUN          1   17\n",
       "\n",
       "[1006441 rows x 5 columns]"
      ]
     },
     "execution_count": 10,
     "metadata": {},
     "output_type": "execute_result"
    }
   ],
   "source": [
    "df"
   ]
  },
  {
   "cell_type": "code",
   "execution_count": 11,
   "id": "7e77a817",
   "metadata": {},
   "outputs": [
    {
     "data": {
      "text/html": [
       "<div>\n",
       "<style scoped>\n",
       "    .dataframe tbody tr th:only-of-type {\n",
       "        vertical-align: middle;\n",
       "    }\n",
       "\n",
       "    .dataframe tbody tr th {\n",
       "        vertical-align: top;\n",
       "    }\n",
       "\n",
       "    .dataframe thead th {\n",
       "        text-align: right;\n",
       "    }\n",
       "</style>\n",
       "<table border=\"1\" class=\"dataframe\">\n",
       "  <thead>\n",
       "    <tr style=\"text-align: right;\">\n",
       "      <th></th>\n",
       "      <th>lemma</th>\n",
       "      <th>form</th>\n",
       "      <th>pos</th>\n",
       "      <th>frequency</th>\n",
       "      <th>len</th>\n",
       "    </tr>\n",
       "  </thead>\n",
       "  <tbody>\n",
       "    <tr>\n",
       "      <th>14718</th>\n",
       "      <td>voida</td>\n",
       "      <td>voin</td>\n",
       "      <td>AUX</td>\n",
       "      <td>2609</td>\n",
       "      <td>4</td>\n",
       "    </tr>\n",
       "    <tr>\n",
       "      <th>17268</th>\n",
       "      <td>voida</td>\n",
       "      <td>voin</td>\n",
       "      <td>VERB</td>\n",
       "      <td>324</td>\n",
       "      <td>4</td>\n",
       "    </tr>\n",
       "    <tr>\n",
       "      <th>20196</th>\n",
       "      <td>voi</td>\n",
       "      <td>voin</td>\n",
       "      <td>NOUN</td>\n",
       "      <td>54</td>\n",
       "      <td>4</td>\n",
       "    </tr>\n",
       "    <tr>\n",
       "      <th>171014</th>\n",
       "      <td>voin</td>\n",
       "      <td>voin</td>\n",
       "      <td>PRON</td>\n",
       "      <td>1</td>\n",
       "      <td>4</td>\n",
       "    </tr>\n",
       "    <tr>\n",
       "      <th>380686</th>\n",
       "      <td>voida</td>\n",
       "      <td>voin</td>\n",
       "      <td>NOUN</td>\n",
       "      <td>6</td>\n",
       "      <td>4</td>\n",
       "    </tr>\n",
       "    <tr>\n",
       "      <th>647718</th>\n",
       "      <td>voi</td>\n",
       "      <td>voin</td>\n",
       "      <td>PROPN</td>\n",
       "      <td>1</td>\n",
       "      <td>4</td>\n",
       "    </tr>\n",
       "  </tbody>\n",
       "</table>\n",
       "</div>"
      ],
      "text/plain": [
       "        lemma  form    pos  frequency  len\n",
       "14718   voida  voin    AUX       2609    4\n",
       "17268   voida  voin   VERB        324    4\n",
       "20196     voi  voin   NOUN         54    4\n",
       "171014   voin  voin   PRON          1    4\n",
       "380686  voida  voin   NOUN          6    4\n",
       "647718    voi  voin  PROPN          1    4"
      ]
     },
     "execution_count": 11,
     "metadata": {},
     "output_type": "execute_result"
    }
   ],
   "source": [
    "df[df['form'] == 'voin']"
   ]
  },
  {
   "cell_type": "code",
   "execution_count": 12,
   "id": "3e7affd0",
   "metadata": {},
   "outputs": [],
   "source": [
    "# FIXME: corpus stats building to script"
   ]
  },
  {
   "cell_type": "code",
   "execution_count": 27,
   "id": "19095fd1",
   "metadata": {},
   "outputs": [],
   "source": [
    "# FIXME: calculate freqamb etc values\n",
    "# FIXME: uralicnlp analysis for forms"
   ]
  },
  {
   "cell_type": "code",
   "execution_count": 29,
   "id": "a7f6f90a",
   "metadata": {},
   "outputs": [],
   "source": [
    "# FIXME: read in .vrt file (suomi24)"
   ]
  },
  {
   "cell_type": "code",
   "execution_count": null,
   "id": "c1c62e63",
   "metadata": {},
   "outputs": [],
   "source": []
  }
 ],
 "metadata": {
  "kernelspec": {
   "display_name": "Python 3 (ipykernel)",
   "language": "python",
   "name": "python3"
  },
  "language_info": {
   "codemirror_mode": {
    "name": "ipython",
    "version": 3
   },
   "file_extension": ".py",
   "mimetype": "text/x-python",
   "name": "python",
   "nbconvert_exporter": "python",
   "pygments_lexer": "ipython3",
   "version": "3.8.8"
  }
 },
 "nbformat": 4,
 "nbformat_minor": 5
}
