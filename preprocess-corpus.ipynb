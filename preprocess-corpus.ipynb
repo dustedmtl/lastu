{
 "cells": [
  {
   "cell_type": "code",
   "execution_count": 13,
   "id": "eb585431",
   "metadata": {},
   "outputs": [
    {
     "name": "stdout",
     "output_type": "stream",
     "text": [
      "The autoreload extension is already loaded. To reload it, use:\n",
      "  %reload_ext autoreload\n"
     ]
    }
   ],
   "source": [
    "%load_ext autoreload\n",
    "%autoreload 2"
   ]
  },
  {
   "cell_type": "code",
   "execution_count": 14,
   "id": "b8226d99",
   "metadata": {},
   "outputs": [
    {
     "name": "stderr",
     "output_type": "stream",
     "text": [
      "/var/folders/1j/drg6fbds6bg2wd8lv32jdzyw65q1ws/T/ipykernel_52484/1189900070.py:1: DeprecationWarning: Importing display from IPython.core.display is deprecated since IPython 7.14, please import from IPython display\n",
      "  from IPython.core.display import display, HTML\n"
     ]
    },
    {
     "data": {
      "text/html": [
       "<style>.container { width: 90% !important; }</style>"
      ],
      "text/plain": [
       "<IPython.core.display.HTML object>"
      ]
     },
     "metadata": {},
     "output_type": "display_data"
    }
   ],
   "source": [
    "from IPython.core.display import display, HTML\n",
    "display(HTML(\"<style>.container { width: 90% !important; }</style>\"))"
   ]
  },
  {
   "cell_type": "code",
   "execution_count": 15,
   "id": "037b3ec8",
   "metadata": {},
   "outputs": [],
   "source": [
    "from lib import corpus, dbutil"
   ]
  },
  {
   "cell_type": "code",
   "execution_count": 20,
   "id": "86f12792",
   "metadata": {},
   "outputs": [],
   "source": [
    "sqlcon = dbutil.get_connection('data/gutenberg2.db')"
   ]
  },
  {
   "cell_type": "code",
   "execution_count": 29,
   "id": "985abbd0",
   "metadata": {},
   "outputs": [
    {
     "name": "stdout",
     "output_type": "stream",
     "text": [
      "Reading input files: ../gutenfin/corpora/gutenberg/output/\n"
     ]
    },
    {
     "data": {
      "application/json": {
       "ascii": false,
       "bar_format": null,
       "colour": null,
       "elapsed": 0.016134977340698242,
       "initial": 0,
       "n": 0,
       "ncols": null,
       "nrows": 40,
       "postfix": null,
       "prefix": "",
       "rate": null,
       "total": 1,
       "unit": "it",
       "unit_divisor": 1000,
       "unit_scale": false
      },
      "application/vnd.jupyter.widget-view+json": {
       "model_id": "e4fac8a51ed24d59bb39df0aae251d5e",
       "version_major": 2,
       "version_minor": 0
      },
      "text/plain": [
       "  0%|          | 0/1 [00:00<?, ?it/s]"
      ]
     },
     "metadata": {},
     "output_type": "display_data"
    }
   ],
   "source": [
    "data = corpus.conllu_reader('../gutenfin/corpora/gutenberg/output/', verbose=True, count=1)"
   ]
  },
  {
   "cell_type": "code",
   "execution_count": 25,
   "id": "06830fa3",
   "metadata": {},
   "outputs": [],
   "source": [
    "# data"
   ]
  },
  {
   "cell_type": "code",
   "execution_count": 27,
   "id": "a15a98e4",
   "metadata": {
    "scrolled": false
   },
   "outputs": [],
   "source": [
    "# freqs2 = corpus.conllu_reader('../gutenfin/corpora/gutenberg/output/', verbose=True)"
   ]
  },
  {
   "cell_type": "code",
   "execution_count": 28,
   "id": "b29fae44",
   "metadata": {},
   "outputs": [],
   "source": [
    "# dbutil.write_freqs_to_db(sqlcon, freqs2)"
   ]
  },
  {
   "cell_type": "code",
   "execution_count": null,
   "id": "56b9e9eb",
   "metadata": {},
   "outputs": [],
   "source": [
    "# s24con = dbutil.get_connection('data/s24.db')"
   ]
  },
  {
   "cell_type": "code",
   "execution_count": null,
   "id": "bec807ba",
   "metadata": {},
   "outputs": [],
   "source": [
    "# dbutil.write_freqs_to_db(s24con, vrtdata)"
   ]
  },
  {
   "cell_type": "code",
   "execution_count": null,
   "id": "59616310",
   "metadata": {},
   "outputs": [],
   "source": []
  }
 ],
 "metadata": {
  "kernelspec": {
   "display_name": "Python 3 (ipykernel)",
   "language": "python",
   "name": "python3"
  },
  "language_info": {
   "codemirror_mode": {
    "name": "ipython",
    "version": 3
   },
   "file_extension": ".py",
   "mimetype": "text/x-python",
   "name": "python",
   "nbconvert_exporter": "python",
   "pygments_lexer": "ipython3",
   "version": "3.8.8"
  }
 },
 "nbformat": 4,
 "nbformat_minor": 5
}
