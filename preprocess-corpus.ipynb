{
 "cells": [
  {
   "cell_type": "code",
   "execution_count": null,
   "id": "eb585431",
   "metadata": {},
   "outputs": [],
   "source": [
    "%load_ext autoreload\n",
    "%autoreload 2"
   ]
  },
  {
   "cell_type": "code",
   "execution_count": null,
   "id": "b8226d99",
   "metadata": {},
   "outputs": [],
   "source": [
    "from IPython.display import display, HTML\n",
    "display(HTML(\"<style>.container { width: 90% !important; }</style>\"))"
   ]
  },
  {
   "cell_type": "code",
   "execution_count": null,
   "id": "e33175e1",
   "metadata": {},
   "outputs": [],
   "source": [
    "import sys\n",
    "import math\n",
    "import logging\n",
    "from tqdm.autonotebook import tqdm\n",
    "# import pandas as pd\n",
    "# import numpy as np"
   ]
  },
  {
   "cell_type": "code",
   "execution_count": null,
   "id": "e080c258",
   "metadata": {},
   "outputs": [],
   "source": [
    "logger = logging.getLogger('notebook')\n",
    "logging.basicConfig(stream=sys.stdout, level=logging.INFO)"
   ]
  },
  {
   "cell_type": "code",
   "execution_count": null,
   "id": "037b3ec8",
   "metadata": {},
   "outputs": [],
   "source": [
    "from lib import corpus, dbutil"
   ]
  },
  {
   "cell_type": "code",
   "execution_count": null,
   "id": "8b839d36",
   "metadata": {},
   "outputs": [],
   "source": [
    "with open('data/gutentrashx.tsv', 'w') as trashfile:\n",
    "    data = corpus.conllu_reader('data/corpora/gutenberg/output/',\n",
    "                                {},\n",
    "                                filecount=1,\n",
    "                                # sentencecount=10, \n",
    "                                verbose=True,\n",
    "                                trashfile=trashfile)"
   ]
  },
  {
   "cell_type": "code",
   "execution_count": null,
   "id": "b4c1a05a",
   "metadata": {},
   "outputs": [],
   "source": [
    "# dbc = dbutil.DatabaseConnection('data/g_1.db')"
   ]
  },
  {
   "cell_type": "code",
   "execution_count": null,
   "id": "4e006aea",
   "metadata": {},
   "outputs": [],
   "source": [
    "# dbutil.write_freqs_to_db(dbc.get_connection(), data)"
   ]
  },
  {
   "cell_type": "code",
   "execution_count": null,
   "id": "9b1ce69a",
   "metadata": {},
   "outputs": [],
   "source": [
    "data"
   ]
  },
  {
   "cell_type": "code",
   "execution_count": null,
   "id": "28ee5e0e-3126-436b-9977-1419ba31c592",
   "metadata": {},
   "outputs": [],
   "source": []
  }
 ],
 "metadata": {
  "kernelspec": {
   "display_name": "Python 3 (ipykernel)",
   "language": "python",
   "name": "python3"
  },
  "language_info": {
   "codemirror_mode": {
    "name": "ipython",
    "version": 3
   },
   "file_extension": ".py",
   "mimetype": "text/x-python",
   "name": "python",
   "nbconvert_exporter": "python",
   "pygments_lexer": "ipython3",
   "version": "3.9.6"
  }
 },
 "nbformat": 4,
 "nbformat_minor": 5
}
