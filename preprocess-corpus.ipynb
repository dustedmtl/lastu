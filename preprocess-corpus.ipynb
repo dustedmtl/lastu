{
 "cells": [
  {
   "cell_type": "code",
   "execution_count": null,
   "id": "eb585431",
   "metadata": {},
   "outputs": [],
   "source": [
    "%load_ext autoreload\n",
    "%autoreload 2"
   ]
  },
  {
   "cell_type": "code",
   "execution_count": null,
   "id": "b8226d99",
   "metadata": {},
   "outputs": [],
   "source": [
    "from IPython.core.display import display, HTML\n",
    "display(HTML(\"<style>.container { width: 90% !important; }</style>\"))"
   ]
  },
  {
   "cell_type": "code",
   "execution_count": null,
   "id": "037b3ec8",
   "metadata": {},
   "outputs": [],
   "source": [
    "from lib import corpus, dbutil"
   ]
  },
  {
   "cell_type": "code",
   "execution_count": null,
   "id": "86f12792",
   "metadata": {},
   "outputs": [],
   "source": [
    "sqlcon = dbutil.get_connection('data/gutenberg.db')"
   ]
  },
  {
   "cell_type": "code",
   "execution_count": null,
   "id": "985abbd0",
   "metadata": {},
   "outputs": [],
   "source": [
    "data = corpus.conllu_reader('../gutenfin/corpora/gutenberg/output/', verbose=True, count=10)"
   ]
  },
  {
   "cell_type": "code",
   "execution_count": null,
   "id": "a15a98e4",
   "metadata": {
    "scrolled": false
   },
   "outputs": [],
   "source": [
    "freqs2 = corpus.conllu_reader('../gutenfin/corpora/gutenberg/output/', verbose=True)"
   ]
  },
  {
   "cell_type": "code",
   "execution_count": null,
   "id": "cda2a77a",
   "metadata": {},
   "outputs": [],
   "source": [
    "print(len(freqs2[0]))"
   ]
  },
  {
   "cell_type": "code",
   "execution_count": null,
   "id": "bc43785d",
   "metadata": {
    "scrolled": false
   },
   "outputs": [],
   "source": [
    "freqs2[0].most_common(10)"
   ]
  },
  {
   "cell_type": "code",
   "execution_count": null,
   "id": "b29fae44",
   "metadata": {},
   "outputs": [],
   "source": [
    "dbutil.write_freqs_to_db(sqlcon, freqs2)"
   ]
  },
  {
   "cell_type": "code",
   "execution_count": null,
   "id": "37154616",
   "metadata": {},
   "outputs": [],
   "source": [
    "df = dbutil.get_frequency_dataframe(sqlcon)"
   ]
  },
  {
   "cell_type": "code",
   "execution_count": null,
   "id": "56b9e9eb",
   "metadata": {},
   "outputs": [],
   "source": [
    "s24con = dbutil.get_connection('data/s24.db')"
   ]
  },
  {
   "cell_type": "code",
   "execution_count": null,
   "id": "bec807ba",
   "metadata": {},
   "outputs": [],
   "source": [
    "dbutil.write_freqs_to_db(s24con, vrtdata)"
   ]
  },
  {
   "cell_type": "code",
   "execution_count": null,
   "id": "22cc1063",
   "metadata": {},
   "outputs": [],
   "source": []
  }
 ],
 "metadata": {
  "kernelspec": {
   "display_name": "Python 3 (ipykernel)",
   "language": "python",
   "name": "python3"
  },
  "language_info": {
   "codemirror_mode": {
    "name": "ipython",
    "version": 3
   },
   "file_extension": ".py",
   "mimetype": "text/x-python",
   "name": "python",
   "nbconvert_exporter": "python",
   "pygments_lexer": "ipython3",
   "version": "3.8.8"
  }
 },
 "nbformat": 4,
 "nbformat_minor": 5
}
