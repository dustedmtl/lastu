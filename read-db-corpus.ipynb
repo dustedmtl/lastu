{
 "cells": [
  {
   "cell_type": "code",
   "execution_count": null,
   "id": "955dfee7",
   "metadata": {},
   "outputs": [],
   "source": [
    "%load_ext autoreload\n",
    "%autoreload 2"
   ]
  },
  {
   "cell_type": "code",
   "execution_count": null,
   "id": "b8226d99",
   "metadata": {},
   "outputs": [],
   "source": [
    "from IPython.display import display, HTML\n",
    "display(HTML(\"<style>.container { width: 95% !important; }</style>\"))\n",
    "import pandas as pd\n",
    "# import numpy as np\n",
    "pd.set_option('display.max_colwidth', None)"
   ]
  },
  {
   "cell_type": "code",
   "execution_count": null,
   "id": "ce9d436a",
   "metadata": {},
   "outputs": [],
   "source": [
    "from collections import defaultdict\n",
    "from tqdm.autonotebook import tqdm\n",
    "import sys\n",
    "import logging\n",
    "# import time\n",
    "# import random"
   ]
  },
  {
   "cell_type": "code",
   "execution_count": null,
   "id": "cadf36c0",
   "metadata": {},
   "outputs": [],
   "source": [
    "logger = logging.getLogger('notebook')\n",
    "logging.basicConfig(stream=sys.stdout, level=logging.INFO)"
   ]
  },
  {
   "cell_type": "code",
   "execution_count": null,
   "id": "037b3ec8",
   "metadata": {},
   "outputs": [],
   "source": [
    "from lib import corpus, dbutil"
   ]
  },
  {
   "cell_type": "code",
   "execution_count": null,
   "id": "2e0a0256",
   "metadata": {},
   "outputs": [],
   "source": [
    "# s24con1 = dbutil.get_connection('/Users/saitkone/Desktop/phd/wm2/data/s24_c2.db')\n",
    "# dbc = dbutil.DatabaseConnection('data/s24_c2.db')\n",
    "dbc = dbutil.DatabaseConnection('data/ns24_4.db')"
   ]
  },
  {
   "cell_type": "markdown",
   "id": "7cefb1c7",
   "metadata": {},
   "source": [
    "Read 500000 first rows by frequency (for caching)."
   ]
  },
  {
   "cell_type": "code",
   "execution_count": null,
   "id": "f95485d7",
   "metadata": {},
   "outputs": [],
   "source": [
    "# start = time.perf_counter()\n",
    "# mildf = pd.DataFrame(pd.read_sql_query('select w.*, i.frequency as initgramfreq, f.frequency as fingramfreq, b.frequency as bigramfreq FROM wordfreqs w LEFT JOIN initgramfreqs i ON i.form = substr(w.form, 1, 3) LEFT JOIN fingramfreqs f ON f.form = substr(w.form, -3, 3) LEFT JOIN wordbigramfreqs b ON b.form = w.form order by w.frequency desc limit 500000', s24con1))\n",
    "# end = time.perf_counter()\n",
    "# print(f'Executing query.. done: {len(mildf)} rows returned in {end - start:.1f} seconds')"
   ]
  },
  {
   "cell_type": "code",
   "execution_count": null,
   "id": "a84961e9",
   "metadata": {},
   "outputs": [],
   "source": [
    "# mildf\n",
    "# mildf[mildf.bigramfreq > 20000000][:10].reset_index(drop=True)\n",
    "\n",
    "# first10 = mildf.iloc[:10,:]\n",
    "# mask = [random.choice([True, False]) for _ in range(len(first10))]\n",
    "# first10[mask]"
   ]
  },
  {
   "cell_type": "markdown",
   "id": "caecd5ac",
   "metadata": {},
   "source": [
    "#### Basic information queries."
   ]
  },
  {
   "cell_type": "code",
   "execution_count": null,
   "id": "f80e4a25",
   "metadata": {},
   "outputs": [],
   "source": [
    "bgquery1 = \"pos = 'NOUN' and form like 'silmäsi' and frequency > 10\"\n",
    "# gquery1 = \"pos = NOUN\"\n",
    "# bgquery1 = \"pos not in NOUN,ADJ\"\n",
    "# bgquery1 = \"pos = NOUN and frequency > 100\"\n",
    "# bgquery1 = \"form like 'tai%' and bigramfreq > 18000000\"\n",
    "# bgquery1 = \"form = 'tai' and pos = 'CCONJ'\"\n",
    "# bgquery1 = \"form = 'auto'\"\n",
    "# bgquery1 = \"form like 'au%'\"\n",
    "# bgquery1 = \"form like 'auto%' and compound\"\n",
    "# bgquery1 = \"lemma = 'kuusi'\"\n",
    "# bgquery1 = \"lemma = 'voi'\"\n",
    "# bgquery1 = \"lemma in voi,voida\"\n",
    "bgquery1 = \"lemma not in voi,voida\"\n",
    "# bgquery1 = 'form = ja'\n",
    "# bgquery1 = 'lemma = voida and form like voi%'\n",
    "# bgquery1 = 'form = se'\n",
    "# bgdf1, _, _ = dbutil.get_frequency_dataframe(s24con1, query=bgquery1, grams=True, lemmas=True)\n",
    "# bgdf1, _, _ = dbutil.get_frequency_dataframe(s24con1, query=bgquery1, grams=True, lemmas=False, orderby='w.form ASC')\n",
    "bgdf1, _, _ = dbutil.get_frequency_dataframe(dbc, query=bgquery1, grams=False, lemmas=False)\n",
    "bgdf1"
   ]
  },
  {
   "cell_type": "markdown",
   "id": "b2805c58",
   "metadata": {},
   "source": [
    "#### Feature queries."
   ]
  },
  {
   "cell_type": "code",
   "execution_count": null,
   "id": "a5340e7c",
   "metadata": {},
   "outputs": [],
   "source": [
    "# bgquery2 = \"posspers != '_'\"\n",
    "# bgquery2 = \"posspers = 1\"\n",
    "# bgquery2 = \"nouncase = 'Gen'\"\n",
    "bgquery2 = \"nouncase not in Ill,Gen\"\n",
    "# bgquery2 = \"nouncase in Ill,Gen\"\n",
    "# bgquery2 = \"nouncase in Ill,Gen and pos in PROPN,NOUN\"\n",
    "# bgquery2 = \"nouncase in Ill,Gen and pos in PRON,PROPN and frequency > 1000\"\n",
    "# bgquery2 = \"nouncase in Ill,Gen and pos in PROPN,NOUN and foo and len >   a and naat compound and len ~= 10 and len<10\"\n",
    "bgquery2 = \"pos = NOUN and derivation in Inen,Lainen\"\n",
    "# bgquery2 = \"clitic not in Han,Ko\"\n",
    "# bgquery2 = \"clitic in Pa\"\n",
    "# bgquery2 = \"clitic = Han\"\n",
    "# bgquery2 = \"clitic != Han\"\n",
    "# bgquery2 = \"clitic in Han,Ko\"\n",
    "# bgdf2, _, _ = dbutil.get_frequency_dataframe(s24con1, query=bgquery1, grams=True, lemmas=False, orderby='w.form ASC')\n",
    "# bgdf2, _, _ = dbutil.get_frequency_dataframe(dbc, query=bgquery2, grams=False, lemmas=False)\n",
    "bgdf2, _, _ = dbutil.get_frequency_dataframe(dbc, query=bgquery2, grams=False, lemmas=False)\n",
    "bgdf2"
   ]
  },
  {
   "cell_type": "markdown",
   "id": "87bc6e6b",
   "metadata": {},
   "source": [
    "#### Form start/middle/end queries."
   ]
  },
  {
   "cell_type": "code",
   "execution_count": null,
   "id": "028be33b",
   "metadata": {},
   "outputs": [],
   "source": [
    "# bgquery3 = \"form like '%ssa'\"\n",
    "# bgquery3 = \"form like 'aut%'\"\n",
    "# bgquery3 = \"lemma = 'auto' and start = aut\"\n",
    "# bgquery3 = \"start = aut\"\n",
    "# bgquery3 = \"start != aut\"\n",
    "# bgquery3 = \"middle = tta and lemma like 'v%'\"\n",
    "bgquery3 = \"middle = tta\"\n",
    "# bgquery3 = \"middle = ta\"\n",
    "bgquery3 = \"middle != tta\"\n",
    "# bgquery3 = \"end != ssa\"\n",
    "bgquery3 = \"end = ssa\"\n",
    "# bgquery5 = \"end = sta\"\n",
    "# bgdf3, _, _ = dbutil.get_frequency_dataframe(s24con1, query=bgquery1, grams=True, lemmas=True)\n",
    "# bgdf3, _, _ = dbutil.get_frequency_dataframe(s24con1, query=bgquery1, grams=True, lemmas=False, orderby='w.form ASC')\n",
    "bgdf3, _, _ = dbutil.get_frequency_dataframe(dbc, query=bgquery3, grams=False, lemmas=False)\n",
    "bgdf3"
   ]
  },
  {
   "cell_type": "markdown",
   "id": "f402603b",
   "metadata": {},
   "source": [
    "#### Lemma/form information queries."
   ]
  },
  {
   "cell_type": "code",
   "execution_count": null,
   "id": "0d32b8d9",
   "metadata": {},
   "outputs": [],
   "source": [
    "# bgquery4 = \"form like 'auto%' and compound\"\n",
    "bgquery4 = \"compound\"\n",
    "bgquery4 = \"not compound\"\n",
    "# bgquery4 = \"pos = 'NOUN' and len = 5\"\n",
    "# bgquery4 = \"lemmalen > 10\"\n",
    "# bgquery4 = \"lemmafreq < 40\"\n",
    "# bgquery4 = \"amblemma < 40\"\n",
    "# bgdf1, _, _ = dbutil.get_frequency_dataframe(s24con1, query=bgquery4, grams=True, lemmas=True)\n",
    "# bgdf1, _, _ = dbutil.get_frequency_dataframe(s24con1, query=bgquery4, grams=True, lemmas=False, orderby='w.form ASC')\n",
    "bgdf4, _, _ = dbutil.get_frequency_dataframe(dbc, query=bgquery4, grams=False, lemmas=True)\n",
    "bgdf4"
   ]
  },
  {
   "cell_type": "code",
   "execution_count": null,
   "id": "c5ef8140",
   "metadata": {},
   "outputs": [],
   "source": []
  }
 ],
 "metadata": {
  "kernelspec": {
   "display_name": "Python 3 (ipykernel)",
   "language": "python",
   "name": "python3"
  },
  "language_info": {
   "codemirror_mode": {
    "name": "ipython",
    "version": 3
   },
   "file_extension": ".py",
   "mimetype": "text/x-python",
   "name": "python",
   "nbconvert_exporter": "python",
   "pygments_lexer": "ipython3",
   "version": "3.8.8"
  }
 },
 "nbformat": 4,
 "nbformat_minor": 5
}
