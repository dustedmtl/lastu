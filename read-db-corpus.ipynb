{
 "cells": [
  {
   "cell_type": "code",
   "execution_count": null,
   "id": "955dfee7",
   "metadata": {},
   "outputs": [],
   "source": [
    "%load_ext autoreload\n",
    "%autoreload 2"
   ]
  },
  {
   "cell_type": "code",
   "execution_count": null,
   "id": "b8226d99",
   "metadata": {},
   "outputs": [],
   "source": [
    "from IPython.display import display, HTML\n",
    "display(HTML(\"<style>.container { width: 95% !important; }</style>\"))\n",
    "import pandas as pd\n",
    "import numpy as np\n",
    "pd.set_option('display.max_colwidth', None)"
   ]
  },
  {
   "cell_type": "code",
   "execution_count": null,
   "id": "ce9d436a",
   "metadata": {},
   "outputs": [],
   "source": [
    "from collections import defaultdict\n",
    "from tqdm.autonotebook import tqdm\n",
    "import sys\n",
    "from pathlib import Path\n",
    "from os.path import exists, getsize, join\n",
    "import logging\n",
    "import logging.config\n",
    "# import time\n",
    "# import random"
   ]
  },
  {
   "cell_type": "code",
   "execution_count": null,
   "id": "cf084bd5",
   "metadata": {},
   "outputs": [],
   "source": [
    "homedir = Path.home()\n",
    "wm2logconfig = {\n",
    "    'version': 1,\n",
    "    'disable_existing_loggers': False,\n",
    "    'root': {\n",
    "#        'handlers': ['console', 'file_handler'],\n",
    "        'handlers': ['console', 'file_handler'],\n",
    "        'level': 'DEBUG'\n",
    "    },\n",
    "    'formatters': {\n",
    "        'default_formatter': {\n",
    "            'format': '%(asctime)s %(levelname)s %(message)s',\n",
    "            'datefmt': '%d.%m.%Y %H:%M:%S'\n",
    "        },\n",
    "    },\n",
    "    'handlers': {\n",
    "        'console': {\n",
    "            'class': 'logging.StreamHandler',\n",
    "            'formatter': 'default_formatter',\n",
    "            'level': 'DEBUG'\n",
    "        },\n",
    "        'file_handler': {\n",
    "            'class': 'logging.FileHandler',\n",
    "            'formatter': 'default_formatter',\n",
    "            'filename': join(homedir, 'wm2log.txt'),\n",
    "            'level': 'DEBUG'\n",
    "        }\n",
    "    },\n",
    "}\n",
    "\n",
    "logging.config.dictConfig(wm2logconfig)\n",
    "logger = logging.getLogger('wm2')\n",
    "logger.info('info log')\n",
    "logger.debug('debug log')"
   ]
  },
  {
   "cell_type": "code",
   "execution_count": null,
   "id": "037b3ec8",
   "metadata": {},
   "outputs": [],
   "source": [
    "from lib import corpus, dbutil, pubtools"
   ]
  },
  {
   "cell_type": "code",
   "execution_count": null,
   "id": "2e0a0256",
   "metadata": {},
   "outputs": [],
   "source": [
    "dbc = dbutil.DatabaseConnection('tests/fi_gutenberg_70M_100.db')\n",
    "# dbc = dbutil.DatabaseConnection('data/wm2data/2022-12-29/pbfull_freqX_indexed.db')\n",
    "# dbc = dbutil.DatabaseConnection('data/sv_talbank_80k_full.db')"
   ]
  },
  {
   "cell_type": "code",
   "execution_count": null,
   "id": "bcaa9edd",
   "metadata": {},
   "outputs": [],
   "source": [
    "dbutil.adhoc_query(dbc.connection, 'select * from metadata')"
   ]
  },
  {
   "cell_type": "markdown",
   "id": "5e70f1b5",
   "metadata": {},
   "source": [
    "#### Errors"
   ]
  },
  {
   "cell_type": "code",
   "execution_count": null,
   "id": "e2e6be43",
   "metadata": {},
   "outputs": [],
   "source": [
    "errquery1 = \"nouncase in Ill,Gen and pos in PROPN,NOUN and foo = 0 and len >   a and naat compound and len ~= 10 and len<10\"\n",
    "errdf1, _, _ = dbutil.get_frequency_dataframe(dbc, query=errquery1, grams=False, lemmas=False)\n",
    "errdf1"
   ]
  },
  {
   "cell_type": "markdown",
   "id": "caecd5ac",
   "metadata": {},
   "source": [
    "#### Basic information queries."
   ]
  },
  {
   "cell_type": "code",
   "execution_count": null,
   "id": "f80e4a25",
   "metadata": {},
   "outputs": [],
   "source": [
    "bgquery1 = \"pos = 'NOUN' and form = 'silmäsi' and frequency > 10\"\n",
    "# bgquery1 = \"pos = NOUN\"\n",
    "# bgquery1 = \"nouncase in ine,gen\"\n",
    "# bgquery1 = \"pos = NOUN and len > 10\"\n",
    "# bgquery1 = \"pos = VERB and frequency > 100\"\n",
    "# bgquery1 = \"pos not in NOUN,ADJ\"\n",
    "# bgquery1 = \"pos = NOUN and frequency > 100\"\n",
    "# bgquery1 = \"form like 'tai%' and bigramfreq > 18000000\"\n",
    "# bgquery1 = \"form = 'tai' and pos = 'CCONJ'\"\n",
    "# bgquery1 = \"form = 'auto'\"\n",
    "# bgquery1 = \"form = voit\"\n",
    "bgquery1 = \"fOrm = VOI\"\n",
    "# bgquery1 = \"fOrm like ett%\"\n",
    "# bgquery1 = \"end not in a\"\n",
    "# bgquery1 = \"form like '%ssa'\"\n",
    "# bgquery1 = \"end = ssa\"\n",
    "# bgquery1 = \"form not like a%\"\n",
    "# bgquery1 = \"start = a\"\n",
    "# bgquery1 = \"form like 'auto%' and compound\"\n",
    "# bgquery1 = \"lemma = 'voi'\"\n",
    "bgquery1 = \"lemma in voi,voida\"\n",
    "bgquery1 = \"lemma like voi%\"\n",
    "bgquery1 = \"lemma = autotalli\"\n",
    "# bgquery1 = \"lemma not in voi,voida\"\n",
    "# bgquery1 = 'form = ja'\n",
    "# bgquery1 = \"form = 'on' and pos in AUX,VERB\"\n",
    "# bgquery1 = 'form = on'\n",
    "# bgquery1 = 'lemma = voida and form like voi%'\n",
    "# bgquery1 = 'form = se'\n",
    "# bgdf1, _, _ = dbutil.get_frequency_dataframe(s24con1, query=bgquery1, grams=True, lemmas=True)\n",
    "# bgdf1, _, _ = dbutil.get_frequency_dataframe(s24con1, query=bgquery1, grams=True, lemmas=False, orderby='w.form ASC')\n",
    "bgdf1, _, _ = dbutil.get_frequency_dataframe(dbc, query=bgquery1, grams=True, lemmas=True)\n",
    "bgdf1 = dbutil.add_relative_frequencies(dbc, bgdf1)\n",
    "bgdf1"
   ]
  },
  {
   "cell_type": "markdown",
   "id": "b2805c58",
   "metadata": {},
   "source": [
    "#### Feature queries."
   ]
  },
  {
   "cell_type": "code",
   "execution_count": null,
   "id": "a5340e7c",
   "metadata": {},
   "outputs": [],
   "source": [
    "# bgquery2 = \"posspers != '_'\"\n",
    "# bgquery2 = \"posspers = 1\"\n",
    "# bgquery2 = \"nouncase = 'Gen'\"\n",
    "# bgquery2 = \"nouncase not in Ill,Gen\"\n",
    "# bgquery2 = \"nouncase in Ill,Gen\"\n",
    "# bgquery2 = \"nouncase in Ill,Gen and pos in PROPN,NOUN\"\n",
    "# bgquery2 = \"nouncase in Ill,Gen and pos in PRON,PROPN and frequency > 1000\"\n",
    "bgquery2 = \"pos = NOUN and derivation in Inen,Lainen\"\n",
    "bgquery2 = \"pos in aux,verb\"\n",
    "# bgquery2 = \"clitic not in Han,Ko\"\n",
    "# bgquery2 = \"clitic in Han,Ko\"\n",
    "# bgquery2 = \"clitic in Han,Ko and frequency > 10000\"\n",
    "# bgquery2 = \"clitic in Pa\"\n",
    "# bgquery2 = \"clitic = Han\"\n",
    "# bgquery2 = \"clitic != Han\"\n",
    "bgquery2 = \"clitic != _\"\n",
    "bgquery2 = \"clitic = _\"\n",
    "# bgquery2 = \"clitic in _\"\n",
    "bgquery2 = \"clitic not in Kin\"\n",
    "# bgquery2 = \"clitic != Kin\"\n",
    "bgquery2 = \"derivation != Inen\"\n",
    "bgquery2 = \"mood = Ind\"\n",
    "bgquery2 = \"case in Ill,Gen and freq > 1000000\"\n",
    "# bgquery2 = \"posspers = 3\"\n",
    "# bgdf2, _, _ = dbutil.get_frequency_dataframe(s24con1, query=bgquery1, grams=True, lemmas=False, orderby='w.form ASC')\n",
    "# bgdf2, _, _ = dbutil.get_frequency_dataframe(dbc, query=bgquery2, grams=False, lemmas=False)\n",
    "bgdf2, _, _ = dbutil.get_frequency_dataframe(dbc, query=bgquery2, grams=False, lemmas=False)\n",
    "bgdf2"
   ]
  },
  {
   "cell_type": "markdown",
   "id": "87bc6e6b",
   "metadata": {},
   "source": [
    "#### Form start/middle/end queries."
   ]
  },
  {
   "cell_type": "code",
   "execution_count": null,
   "id": "028be33b",
   "metadata": {},
   "outputs": [],
   "source": [
    "# bgquery3 = \"form like '%ssa'\"\n",
    "bgquery3 = \"form like 'aut%'\"\n",
    "# bgquery3 = \"lemma = 'auto' and start = aut\"\n",
    "bgquery3 = \"start = aut\"\n",
    "# bgquery3 = \"start != aut\"\n",
    "bgquery3 = \"start in auv,aus\"\n",
    "# bgquery3 = \"middle = tta and lemma like 'v%'\"\n",
    "# bgquery3 = \"middle = tta\"\n",
    "# bgquery3 = \"middle = ta\"\n",
    "bgquery3 = \"middle = la and freq > 100000\"\n",
    "# bgquery3 = \"start = la and freq > 100000\"\n",
    "# bgquery3 = \"middle = la and start = la\"\n",
    "# bgquery3 = \"middle in ta,sa\"\n",
    "# bgquery3 = \"middle not in ta,sa\"\n",
    "# bgquery3 = \"middle != ta and end = ta\"\n",
    "# bgquery3 = \"end != ssa\"\n",
    "# bgquery3 = \"end = ssa\"\n",
    "# bgquery3 = \"end in ssa\"\n",
    "# bgquery3 = \"end not in ssa,sta\"\n",
    "# bgquery3 = \"end in ssa,ssä\"\n",
    "# bgdf3, _, _ = dbutil.get_frequency_dataframe(s24con1, query=bgquery1, grams=True, lemmas=True)\n",
    "# bgdf3, _, _ = dbutil.get_frequency_dataframe(s24con1, query=bgquery1, grams=True, lemmas=False, orderby='w.form ASC')\n",
    "bgdf3, _, _ = dbutil.get_frequency_dataframe(dbc, query=bgquery3, grams=False, lemmas=True)\n",
    "bgdf3"
   ]
  },
  {
   "cell_type": "code",
   "execution_count": null,
   "id": "10bbf932",
   "metadata": {},
   "outputs": [],
   "source": [
    "bgdf3[bgdf3.form.str.contains(r'^.+la.+$')]"
   ]
  },
  {
   "cell_type": "markdown",
   "id": "f402603b",
   "metadata": {},
   "source": [
    "#### Lemma/form information queries."
   ]
  },
  {
   "cell_type": "code",
   "execution_count": null,
   "id": "0d32b8d9",
   "metadata": {},
   "outputs": [],
   "source": [
    "# bgquery4 = \"form like 'auto%' and compound\"\n",
    "bgquery4 = \"compound\"\n",
    "bgquery4 = \"not compound\"\n",
    "# bgquery4 = \"pos = 'NOUN' and len = 5\"\n",
    "# bgquery4 = \"lemmalen > 10\"\n",
    "# bgquery4 = \"lemmafreq < 40\"\n",
    "# bgquery4 = \"amblemma < 40\"\n",
    "# bgdf4, _, _ = dbutil.get_frequency_dataframe(s24con1, query=bgquery4, grams=True, lemmas=True)\n",
    "# bgdf4, _, _ = dbutil.get_frequency_dataframe(s24con1, query=bgquery4, grams=True, lemmas=False, orderby='w.form ASC')\n",
    "bgdf4, _, _ = dbutil.get_frequency_dataframe(dbc, query=bgquery4, grams=False, lemmas=True)\n",
    "bgdf4"
   ]
  },
  {
   "cell_type": "markdown",
   "id": "fdd50f49",
   "metadata": {},
   "source": [
    "#### Frequency queries"
   ]
  },
  {
   "cell_type": "code",
   "execution_count": null,
   "id": "c000d649",
   "metadata": {},
   "outputs": [],
   "source": [
    "bgquery5 = \"ambform < 0.99\"\n",
    "bgquery5 = \"form = 'silmäsi' and frequency > 10\"\n",
    "# bgquery5 = \"form = voi and frequency > 100\"\n",
    "bgquery5 = \"form = voi and freq > 10 and amblemma < 0.99\"\n",
    "# bgquery5 = \"form = 'silmäsi' and frequency > 10 and relfrequency > 2\"\n",
    "# bgquery5 = \"ambform < x\"\n",
    "bgdf5, _, _ = dbutil.get_frequency_dataframe(dbc, query=bgquery5, grams=True, lemmas=True)\n",
    "bgdf5"
   ]
  },
  {
   "cell_type": "markdown",
   "id": "b67ba77b",
   "metadata": {},
   "source": [
    "#### Input files"
   ]
  },
  {
   "cell_type": "code",
   "execution_count": null,
   "id": "34c571f5",
   "metadata": {},
   "outputs": [],
   "source": [
    "filename = 'samples/formlist.txt'\n",
    "wordinput = dbutil.get_wordinput(filename)\n",
    "formdf, _, _ = dbutil.get_frequency_dataframe(dbc, query=wordinput, grams=True, lemmas=True)\n",
    "formdf"
   ]
  },
  {
   "cell_type": "code",
   "execution_count": null,
   "id": "efa74b55",
   "metadata": {},
   "outputs": [],
   "source": [
    "filename = 'samples/lemmalist.txt'\n",
    "wordinput = dbutil.get_wordinput(filename)\n",
    "lemmadf, _, _ = dbutil.get_frequency_dataframe(dbc, query=wordinput, grams=True, lemmas=True)\n",
    "lemmadf"
   ]
  },
  {
   "cell_type": "code",
   "execution_count": null,
   "id": "5c224864",
   "metadata": {},
   "outputs": [],
   "source": [
    "tpfilename = 'transposed_candidates.txt'\n",
    "tpwordinput = dbutil.get_wordinput(tpfilename)\n",
    "tplemmadf, _, _ = dbutil.get_frequency_dataframe(dbc, query=tpwordinput, grams=True, lemmas=True)\n",
    "tplemmadf"
   ]
  },
  {
   "cell_type": "code",
   "execution_count": null,
   "id": "80f3d1ab",
   "metadata": {},
   "outputs": [],
   "source": [
    "tplemmadf[tplemmadf.lemma.str.replace('#','') == 'lukuvuosi']"
   ]
  },
  {
   "cell_type": "code",
   "execution_count": null,
   "id": "3013249d",
   "metadata": {},
   "outputs": [],
   "source": [
    "filename = 'samples/nonwordlist.txt'\n",
    "nonwordinput = dbutil.get_wordinput(filename)\n",
    "nonworddf = dbutil.get_unword_bigrams(dbc, nonwordinput)\n",
    "nonworddf"
   ]
  },
  {
   "cell_type": "code",
   "execution_count": null,
   "id": "175bddd1",
   "metadata": {},
   "outputs": [],
   "source": [
    "# brokenfilename = 'samples/winform2.txt'\n",
    "# wordinput = dbutil.get_wordinput(brokenfilename)\n",
    "# formdf2, _, _ = dbutil.get_frequency_dataframe(dbc, query=wordinput, grams=False, lemmas=True)\n",
    "# formdf2"
   ]
  },
  {
   "cell_type": "code",
   "execution_count": null,
   "id": "8ef2346c",
   "metadata": {},
   "outputs": [],
   "source": [
    "relfieldmap = {\n",
    "    'rellemmafreq': dbc.lemmafreqs,\n",
    "    'relfrequency': dbc.wordfreqs,\n",
    "    'relbigramfreq': dbc.bifreqs,\n",
    "    'relinitgramfreq': dbc.initfreqs,\n",
    "    'relfingramfreq': dbc.finfreqs,\n",
    "}\n",
    "revfeats = dbc.featmap(reverse=True)"
   ]
  },
  {
   "cell_type": "code",
   "execution_count": null,
   "id": "e23c93a1",
   "metadata": {},
   "outputs": [],
   "source": [
    "qlist = dbutil.parse_querystring(bgquery5, revfeats, relfieldmap)\n",
    "qlist"
   ]
  },
  {
   "cell_type": "code",
   "execution_count": null,
   "id": "4345e86a",
   "metadata": {},
   "outputs": [],
   "source": [
    "qlist2 = dbutil.parse_query(bgquery5, revfeats, relfieldmap)\n",
    "qlist2"
   ]
  },
  {
   "cell_type": "code",
   "execution_count": null,
   "id": "7d6a48a9",
   "metadata": {},
   "outputs": [],
   "source": [
    "# ffiltered = dbutil.filter_dataframe(dbc, formdf, errquery1)"
   ]
  },
  {
   "cell_type": "code",
   "execution_count": null,
   "id": "b0fdd891",
   "metadata": {},
   "outputs": [],
   "source": [
    "ffiltered = dbutil.filter_dataframe(dbc, formdf, \"form = auto and frequency > 10 and amblemma < 0.9\")\n",
    "ffiltered"
   ]
  },
  {
   "cell_type": "code",
   "execution_count": null,
   "id": "768775b3",
   "metadata": {},
   "outputs": [],
   "source": [
    "ffiltered = dbutil.filter_dataframe(dbc, formdf, \"frequency > 10\")\n",
    "ffiltered"
   ]
  },
  {
   "cell_type": "code",
   "execution_count": null,
   "id": "dcd8fff3",
   "metadata": {},
   "outputs": [],
   "source": [
    "ffiltered = dbutil.filter_dataframe(dbc, formdf, \"top = 2\")\n",
    "ffiltered"
   ]
  },
  {
   "cell_type": "code",
   "execution_count": null,
   "id": "d48df3e0",
   "metadata": {},
   "outputs": [],
   "source": [
    "# ffiltered = dbutil.filter_dataframe(dbc, formdf, \"form not in auto,kuusi and frequency > 1\")\n",
    "ffiltered = dbutil.filter_dataframe(dbc, formdf, \"form not in auto,kuusi\")\n",
    "# ffiltered = dbutil.filter_dataframe(dbc, formdf, \"relfreq > 0.1\")\n",
    "ffiltered"
   ]
  },
  {
   "cell_type": "code",
   "execution_count": null,
   "id": "b531b1ac",
   "metadata": {},
   "outputs": [],
   "source": [
    "ffiltered = dbutil.filter_dataframe(dbc, lemmadf, \"frequency > 10 and lemma = kuusi and start not in kuud,kuus\")\n",
    "ffiltered"
   ]
  },
  {
   "cell_type": "code",
   "execution_count": null,
   "id": "9b7f3626",
   "metadata": {},
   "outputs": [],
   "source": [
    "ffiltered = dbutil.filter_dataframe(dbc, lemmadf, \"frequency > 10 and lemma = kuusi and end not in ni,na\")\n",
    "ffiltered"
   ]
  },
  {
   "cell_type": "code",
   "execution_count": null,
   "id": "916dc073",
   "metadata": {},
   "outputs": [],
   "source": [
    "ffiltered = dbutil.filter_dataframe(dbc, lemmadf, \"frequency > 10 and lemma = kuusi and middle not in si,de\")\n",
    "ffiltered"
   ]
  },
  {
   "cell_type": "code",
   "execution_count": null,
   "id": "4e99ec0c",
   "metadata": {},
   "outputs": [],
   "source": [
    "ffiltered = dbutil.filter_dataframe(dbc, lemmadf, \"frequency > 10 and lemma = kuusi\")\n",
    "ffiltered"
   ]
  },
  {
   "cell_type": "code",
   "execution_count": null,
   "id": "d362ab1d",
   "metadata": {},
   "outputs": [],
   "source": [
    "ffiltered = dbutil.filter_dataframe(dbc, lemmadf, \"frequency > 10 and lemma = kuusi and middle in si\")\n",
    "ffiltered"
   ]
  },
  {
   "cell_type": "code",
   "execution_count": null,
   "id": "02dd0640",
   "metadata": {},
   "outputs": [],
   "source": [
    "ffiltered = dbutil.filter_dataframe(dbc, lemmadf, \"frequency > 10 and lemma = kuusi and middle not in si\")\n",
    "ffiltered"
   ]
  },
  {
   "cell_type": "code",
   "execution_count": null,
   "id": "580de352",
   "metadata": {},
   "outputs": [],
   "source": [
    "ffiltered = dbutil.filter_dataframe(dbc, lemmadf, \"freq > 10 and compound\")\n",
    "ffiltered"
   ]
  },
  {
   "cell_type": "code",
   "execution_count": null,
   "id": "f82d22ab",
   "metadata": {},
   "outputs": [],
   "source": [
    "# ffiltered = dbutil.filter_dataframe(dbc, lemmadf, \"freq > 1\")\n",
    "# ffiltered = dbutil.filter_dataframe(dbc, lemmadf, \"freq > 1 and lemma = autotalli\")\n",
    "# ffiltered = dbutil.filter_dataframe(dbc, lemmadf, \"relfreq > 1 and start = au\")\n",
    "# ffiltered = dbutil.filter_dataframe(dbc, lemmadf, \"freq > 1 and start in au,vo\")\n",
    "ffiltered = dbutil.filter_dataframe(dbc, lemmadf, \"freq > 1 and start != vo\")\n",
    "ffiltered"
   ]
  },
  {
   "cell_type": "markdown",
   "id": "e56e992d",
   "metadata": {},
   "source": [
    "#### silmäni example"
   ]
  },
  {
   "cell_type": "code",
   "execution_count": null,
   "id": "2c1a513f",
   "metadata": {},
   "outputs": [],
   "source": [
    "silmäquery = \"form = 'silmäni'\"\n",
    "silmädf, _, _ = dbutil.get_frequency_dataframe(dbc, query=silmäquery, grams=True, lemmas=True)\n",
    "silmädf"
   ]
  },
  {
   "cell_type": "code",
   "execution_count": null,
   "id": "740cc82d",
   "metadata": {},
   "outputs": [],
   "source": [
    "# pubtools.save_table(silmädf, 'silm', index=False, force=True)"
   ]
  },
  {
   "cell_type": "markdown",
   "id": "9251bbb8",
   "metadata": {},
   "source": [
    "####  Big input file"
   ]
  },
  {
   "cell_type": "code",
   "execution_count": null,
   "id": "8669d180",
   "metadata": {},
   "outputs": [],
   "source": [
    "# bigfile = 'transposed_candidates.txt'"
   ]
  },
  {
   "cell_type": "code",
   "execution_count": null,
   "id": "9c444c17",
   "metadata": {},
   "outputs": [],
   "source": [
    "# biginput = dbutil.get_wordinput(bigfile)\n",
    "# bigdf, _, _ = dbutil.get_frequency_dataframe(dbc, query=biginput, grams=True, lemmas=True)\n",
    "# bigdf"
   ]
  },
  {
   "cell_type": "code",
   "execution_count": null,
   "id": "ce6d8160",
   "metadata": {},
   "outputs": [],
   "source": [
    "# bigdf2, _, _ = dbutil.get_frequency_dataframe(dbc, query=biginput, grams=True, lemmas=True)\n",
    "# bigdf2"
   ]
  },
  {
   "cell_type": "markdown",
   "id": "819ffbeb",
   "metadata": {},
   "source": [
    "### Aggregation queries"
   ]
  },
  {
   "cell_type": "code",
   "execution_count": null,
   "id": "0b517392",
   "metadata": {},
   "outputs": [],
   "source": [
    "ret = dbutil.parse_aggregation_query(\"agg = lemma,nouncase and pos = noun and frequency > 10\", dbc.featmap(reverse=True), relfieldmap)\n",
    "ret"
   ]
  },
  {
   "cell_type": "code",
   "execution_count": null,
   "id": "96cf1760",
   "metadata": {},
   "outputs": [],
   "source": [
    "aggquery = \"agg = lemma,nouncase,person and pos = noun and frequency > 10\"\n",
    "aggs, _, _ = dbutil.get_frequency_dataframe(dbc, query=aggquery, grams=True, lemmas=True)\n",
    "aggs"
   ]
  },
  {
   "cell_type": "code",
   "execution_count": null,
   "id": "609b8c1f",
   "metadata": {},
   "outputs": [],
   "source": [
    "aggquery = \"agg = lemma,nouncase and aggop = count and pos = noun and frequency > 10\"\n",
    "aggs, _, _ = dbutil.get_frequency_dataframe(dbc, query=aggquery, grams=True, lemmas=True)\n",
    "aggs"
   ]
  },
  {
   "cell_type": "code",
   "execution_count": null,
   "id": "1d3b5c2a",
   "metadata": {},
   "outputs": [],
   "source": [
    "aggquery = \"agg = pos and case = par\"\n",
    "aggs, _, _ = dbutil.get_frequency_dataframe(dbc, query=aggquery, grams=True, lemmas=True)\n",
    "aggs"
   ]
  },
  {
   "cell_type": "code",
   "execution_count": null,
   "id": "14f9b47d",
   "metadata": {},
   "outputs": [],
   "source": []
  }
 ],
 "metadata": {
  "kernelspec": {
   "display_name": "Python 3 (ipykernel)",
   "language": "python",
   "name": "python3"
  },
  "language_info": {
   "codemirror_mode": {
    "name": "ipython",
    "version": 3
   },
   "file_extension": ".py",
   "mimetype": "text/x-python",
   "name": "python",
   "nbconvert_exporter": "python",
   "pygments_lexer": "ipython3",
   "version": "3.8.8"
  }
 },
 "nbformat": 4,
 "nbformat_minor": 5
}
