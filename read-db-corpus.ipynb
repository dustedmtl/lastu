{
 "cells": [
  {
   "cell_type": "code",
   "execution_count": null,
   "id": "955dfee7",
   "metadata": {},
   "outputs": [],
   "source": [
    "%load_ext autoreload\n",
    "%autoreload 2"
   ]
  },
  {
   "cell_type": "code",
   "execution_count": null,
   "id": "b8226d99",
   "metadata": {},
   "outputs": [],
   "source": [
    "from IPython.display import display, HTML\n",
    "display(HTML(\"<style>.container { width: 95% !important; }</style>\"))\n",
    "import pandas as pd\n",
    "import numpy as np\n",
    "pd.set_option('display.max_colwidth', None)"
   ]
  },
  {
   "cell_type": "code",
   "execution_count": null,
   "id": "ce9d436a",
   "metadata": {},
   "outputs": [],
   "source": [
    "from collections import defaultdict\n",
    "from tqdm.autonotebook import tqdm\n",
    "import sys\n",
    "from pathlib import Path\n",
    "from os.path import exists, getsize, join\n",
    "import logging\n",
    "import logging.config\n",
    "# import time\n",
    "# import random"
   ]
  },
  {
   "cell_type": "code",
   "execution_count": null,
   "id": "cf084bd5",
   "metadata": {},
   "outputs": [],
   "source": [
    "homedir = Path.home()\n",
    "wm2logconfig = {\n",
    "    'version': 1,\n",
    "    'disable_existing_loggers': False,\n",
    "    'root': {\n",
    "#        'handlers': ['console', 'file_handler'],\n",
    "        'handlers': ['console', 'file_handler'],\n",
    "        'level': 'DEBUG'\n",
    "    },\n",
    "    'formatters': {\n",
    "        'default_formatter': {\n",
    "            'format': '%(asctime)s %(levelname)s %(message)s',\n",
    "            'datefmt': '%d.%m.%Y %H:%M:%S'\n",
    "        },\n",
    "    },\n",
    "    'handlers': {\n",
    "        'console': {\n",
    "            'class': 'logging.StreamHandler',\n",
    "            'formatter': 'default_formatter',\n",
    "            'level': 'DEBUG'\n",
    "        },\n",
    "        'file_handler': {\n",
    "            'class': 'logging.FileHandler',\n",
    "            'formatter': 'default_formatter',\n",
    "            'filename': join(homedir, 'wm2log.txt'),\n",
    "            'level': 'DEBUG'\n",
    "        }\n",
    "    },\n",
    "}\n",
    "\n",
    "logging.config.dictConfig(wm2logconfig)\n",
    "logger = logging.getLogger('wm2')\n",
    "logger.info('info log')\n",
    "logger.debug('debug log')"
   ]
  },
  {
   "cell_type": "code",
   "execution_count": null,
   "id": "037b3ec8",
   "metadata": {},
   "outputs": [],
   "source": [
    "from lib import corpus, dbutil"
   ]
  },
  {
   "cell_type": "code",
   "execution_count": null,
   "id": "2e0a0256",
   "metadata": {},
   "outputs": [],
   "source": [
    "# dbc = dbutil.DatabaseConnection('data/s24_c2.db')\n",
    "# dbc = dbutil.DatabaseConnection('data/ns24_6.db')\n",
    "# dbc = dbutil.DatabaseConnection('data/ns24_7.db')\n",
    "dbc = dbutil.DatabaseConnection('data/ns24_freq2.db')"
   ]
  },
  {
   "cell_type": "markdown",
   "id": "5e70f1b5",
   "metadata": {},
   "source": [
    "#### Errors"
   ]
  },
  {
   "cell_type": "code",
   "execution_count": null,
   "id": "e2e6be43",
   "metadata": {},
   "outputs": [],
   "source": [
    "errquery1 = \"nouncase in Ill,Gen and pos in PROPN,NOUN and foo = 0 and len >   a and naat compound and len ~= 10 and len<10\"\n",
    "errdf1, _, _ = dbutil.get_frequency_dataframe(dbc, query=errquery1, grams=False, lemmas=False)\n",
    "errdf1"
   ]
  },
  {
   "cell_type": "markdown",
   "id": "caecd5ac",
   "metadata": {},
   "source": [
    "#### Basic information queries."
   ]
  },
  {
   "cell_type": "code",
   "execution_count": null,
   "id": "f80e4a25",
   "metadata": {},
   "outputs": [],
   "source": [
    "bgquery1 = \"pos = 'NOUN' and form = 'silmäsi' and frequency > 10\"\n",
    "# bgquery1 = \"pos = NOUN\"\n",
    "# bgquery1 = \"nouncase in ine,gen\"\n",
    "# bgquery1 = \"pos = NOUN and len > 10\"\n",
    "# bgquery1 = \"pos = VERB and frequency > 100\"\n",
    "# bgquery1 = \"pos not in NOUN,ADJ\"\n",
    "# bgquery1 = \"pos = NOUN and frequency > 100\"\n",
    "# bgquery1 = \"form like 'tai%' and bigramfreq > 18000000\"\n",
    "# bgquery1 = \"form = 'tai' and pos = 'CCONJ'\"\n",
    "# bgquery1 = \"form = 'auto'\"\n",
    "# bgquery1 = \"form = voit\"\n",
    "bgquery1 = \"fOrm = VOI\"\n",
    "# bgquery1 = \"fOrm like ett%\"\n",
    "# bgquery1 = \"end not in a\"\n",
    "# bgquery1 = \"form like '%ssa'\"\n",
    "# bgquery1 = \"end = ssa\"\n",
    "# bgquery1 = \"form not like a%\"\n",
    "# bgquery1 = \"start = a\"\n",
    "# bgquery1 = \"form like 'auto%' and compound\"\n",
    "# bgquery1 = \"lemma = 'voi'\"\n",
    "bgquery1 = \"lemma in voi,voida\"\n",
    "bgquery1 = \"lemma like voi%\"\n",
    "bgquery1 = \"lemma = autotalli\"\n",
    "# bgquery1 = \"lemma not in voi,voida\"\n",
    "# bgquery1 = 'form = ja'\n",
    "# bgquery1 = \"form = 'on' and pos in AUX,VERB\"\n",
    "# bgquery1 = 'form = on'\n",
    "# bgquery1 = 'lemma = voida and form like voi%'\n",
    "# bgquery1 = 'form = se'\n",
    "# bgdf1, _, _ = dbutil.get_frequency_dataframe(s24con1, query=bgquery1, grams=True, lemmas=True)\n",
    "# bgdf1, _, _ = dbutil.get_frequency_dataframe(s24con1, query=bgquery1, grams=True, lemmas=False, orderby='w.form ASC')\n",
    "bgdf1, _, _ = dbutil.get_frequency_dataframe(dbc, query=bgquery1, grams=True, lemmas=True)\n",
    "bgdf1 = dbutil.add_relative_frequencies(dbc, bgdf1)\n",
    "bgdf1"
   ]
  },
  {
   "cell_type": "markdown",
   "id": "b2805c58",
   "metadata": {},
   "source": [
    "#### Feature queries."
   ]
  },
  {
   "cell_type": "code",
   "execution_count": null,
   "id": "a5340e7c",
   "metadata": {},
   "outputs": [],
   "source": [
    "# bgquery2 = \"posspers != '_'\"\n",
    "# bgquery2 = \"posspers = 1\"\n",
    "# bgquery2 = \"nouncase = 'Gen'\"\n",
    "# bgquery2 = \"nouncase not in Ill,Gen\"\n",
    "# bgquery2 = \"nouncase in Ill,Gen\"\n",
    "# bgquery2 = \"nouncase in Ill,Gen and pos in PROPN,NOUN\"\n",
    "# bgquery2 = \"nouncase in Ill,Gen and pos in PRON,PROPN and frequency > 1000\"\n",
    "bgquery2 = \"pos = NOUN and derivation in Inen,Lainen\"\n",
    "bgquery2 = \"pos in aux,verb\"\n",
    "# bgquery2 = \"clitic not in Han,Ko\"\n",
    "# bgquery2 = \"clitic in Han,Ko\"\n",
    "# bgquery2 = \"clitic in Han,Ko and frequency > 10000\"\n",
    "# bgquery2 = \"clitic in Pa\"\n",
    "# bgquery2 = \"clitic = Han\"\n",
    "# bgquery2 = \"clitic != Han\"\n",
    "bgquery2 = \"clitic != _\"\n",
    "bgquery2 = \"clitic = _\"\n",
    "# bgquery2 = \"clitic in _\"\n",
    "bgquery2 = \"clitic not in Kin\"\n",
    "# bgquery2 = \"clitic != Kin\"\n",
    "bgquery2 = \"derivation != Inen\"\n",
    "# bgdf2, _, _ = dbutil.get_frequency_dataframe(s24con1, query=bgquery1, grams=True, lemmas=False, orderby='w.form ASC')\n",
    "# bgdf2, _, _ = dbutil.get_frequency_dataframe(dbc, query=bgquery2, grams=False, lemmas=False)\n",
    "bgdf2, _, _ = dbutil.get_frequency_dataframe(dbc, query=bgquery2, grams=False, lemmas=False)\n",
    "bgdf2"
   ]
  },
  {
   "cell_type": "markdown",
   "id": "87bc6e6b",
   "metadata": {},
   "source": [
    "#### Form start/middle/end queries."
   ]
  },
  {
   "cell_type": "code",
   "execution_count": null,
   "id": "028be33b",
   "metadata": {},
   "outputs": [],
   "source": [
    "# bgquery3 = \"form like '%ssa'\"\n",
    "bgquery3 = \"form like 'aut%'\"\n",
    "# bgquery3 = \"lemma = 'auto' and start = aut\"\n",
    "bgquery3 = \"start = aut\"\n",
    "# bgquery3 = \"start != aut\"\n",
    "bgquery3 = \"start in auv,aus\"\n",
    "# bgquery3 = \"middle = tta and lemma like 'v%'\"\n",
    "# bgquery3 = \"middle = tta\"\n",
    "bgquery3 = \"middle = ta\"\n",
    "bgquery3 = \"middle in ta,sa\"\n",
    "# bgquery3 = \"middle not in ta,sa\"\n",
    "# bgquery3 = \"middle != tta\"\n",
    "# bgquery3 = \"end != ssa\"\n",
    "# bgquery3 = \"end = ssa\"\n",
    "# bgquery3 = \"end in ssa\"\n",
    "# bgquery3 = \"end not in ssa,sta\"\n",
    "bgquery3 = \"end in ssa,ssä\"\n",
    "# bgdf3, _, _ = dbutil.get_frequency_dataframe(s24con1, query=bgquery1, grams=True, lemmas=True)\n",
    "# bgdf3, _, _ = dbutil.get_frequency_dataframe(s24con1, query=bgquery1, grams=True, lemmas=False, orderby='w.form ASC')\n",
    "bgdf3, _, _ = dbutil.get_frequency_dataframe(dbc, query=bgquery3, grams=False, lemmas=True)\n",
    "bgdf3"
   ]
  },
  {
   "cell_type": "markdown",
   "id": "f402603b",
   "metadata": {},
   "source": [
    "#### Lemma/form information queries."
   ]
  },
  {
   "cell_type": "code",
   "execution_count": null,
   "id": "0d32b8d9",
   "metadata": {},
   "outputs": [],
   "source": [
    "# bgquery4 = \"form like 'auto%' and compound\"\n",
    "bgquery4 = \"compound\"\n",
    "bgquery4 = \"not compound\"\n",
    "# bgquery4 = \"pos = 'NOUN' and len = 5\"\n",
    "# bgquery4 = \"lemmalen > 10\"\n",
    "# bgquery4 = \"lemmafreq < 40\"\n",
    "# bgquery4 = \"amblemma < 40\"\n",
    "# bgdf4, _, _ = dbutil.get_frequency_dataframe(s24con1, query=bgquery4, grams=True, lemmas=True)\n",
    "# bgdf4, _, _ = dbutil.get_frequency_dataframe(s24con1, query=bgquery4, grams=True, lemmas=False, orderby='w.form ASC')\n",
    "bgdf4, _, _ = dbutil.get_frequency_dataframe(dbc, query=bgquery4, grams=False, lemmas=True)\n",
    "bgdf4"
   ]
  },
  {
   "cell_type": "markdown",
   "id": "fdd50f49",
   "metadata": {},
   "source": [
    "#### Frequency queries"
   ]
  },
  {
   "cell_type": "code",
   "execution_count": null,
   "id": "c000d649",
   "metadata": {},
   "outputs": [],
   "source": [
    "bgquery5 = \"ambform < 0.99\"\n",
    "bgquery5 = \"form = 'silmäsi' and frequency > 10\"\n",
    "# bgquery5 = \"form = voi and frequency > 100\"\n",
    "bgquery5 = \"form = voi and frequency > 10 and amblemma < 0.99\"\n",
    "# bgquery5 = \"form = 'silmäsi' and frequency > 10 and relfrequency > 2\"\n",
    "# bgquery5 = \"ambform < x\"\n",
    "bgdf5, _, _ = dbutil.get_frequency_dataframe(dbc, query=bgquery5, grams=True, lemmas=True)\n",
    "bgdf5"
   ]
  },
  {
   "cell_type": "markdown",
   "id": "b67ba77b",
   "metadata": {},
   "source": [
    "#### Input files"
   ]
  },
  {
   "cell_type": "code",
   "execution_count": null,
   "id": "34c571f5",
   "metadata": {},
   "outputs": [],
   "source": [
    "filename = 'samples/formlist.txt'\n",
    "wordinput = dbutil.get_wordinput(filename)\n",
    "formdf, _, _ = dbutil.get_frequency_dataframe(dbc, query=wordinput, grams=False, lemmas=True)\n",
    "formdf"
   ]
  },
  {
   "cell_type": "code",
   "execution_count": null,
   "id": "3013249d",
   "metadata": {},
   "outputs": [],
   "source": [
    "filename = 'samples/nonwordlist.txt'\n",
    "wordinput = dbutil.get_wordinput(filename)\n",
    "nonworddf = dbutil.get_unword_bigrams(dbc, wordinput)\n",
    "nonworddf"
   ]
  },
  {
   "cell_type": "code",
   "execution_count": null,
   "id": "175bddd1",
   "metadata": {},
   "outputs": [],
   "source": [
    "brokenfilename = 'samples/winform2.txt'\n",
    "wordinput = dbutil.get_wordinput(brokenfilename)\n",
    "formdf, _, _ = dbutil.get_frequency_dataframe(dbc, query=wordinput, grams=False, lemmas=True)\n",
    "formdf"
   ]
  },
  {
   "cell_type": "code",
   "execution_count": null,
   "id": "e23c93a1",
   "metadata": {},
   "outputs": [],
   "source": []
  }
 ],
 "metadata": {
  "kernelspec": {
   "display_name": "Python 3 (ipykernel)",
   "language": "python",
   "name": "python3"
  },
  "language_info": {
   "codemirror_mode": {
    "name": "ipython",
    "version": 3
   },
   "file_extension": ".py",
   "mimetype": "text/x-python",
   "name": "python",
   "nbconvert_exporter": "python",
   "pygments_lexer": "ipython3",
   "version": "3.8.8"
  }
 },
 "nbformat": 4,
 "nbformat_minor": 5
}
